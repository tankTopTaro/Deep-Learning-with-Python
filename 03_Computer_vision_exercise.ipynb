{
  "nbformat": 4,
  "nbformat_minor": 0,
  "metadata": {
    "colab": {
      "provenance": [],
      "collapsed_sections": [],
      "authorship_tag": "ABX9TyMqVxEr2IRaRQIzCjf1XHhZ",
      "include_colab_link": true
    },
    "kernelspec": {
      "name": "python3",
      "display_name": "Python 3"
    },
    "language_info": {
      "name": "python"
    },
    "accelerator": "GPU"
  },
  "cells": [
    {
      "cell_type": "markdown",
      "metadata": {
        "id": "view-in-github",
        "colab_type": "text"
      },
      "source": [
        "<a href=\"https://colab.research.google.com/github/tankTopTaro/Deep-Learning-with-Python/blob/main/03_Computer_vision_exercise.ipynb\" target=\"_parent\"><img src=\"https://colab.research.google.com/assets/colab-badge.svg\" alt=\"Open In Colab\"/></a>"
      ]
    },
    {
      "cell_type": "markdown",
      "source": [
        "# Cat or Dog"
      ],
      "metadata": {
        "id": "aCpLxmmfvZVk"
      }
    },
    {
      "cell_type": "markdown",
      "source": [
        "build your own CNN image classifier using the techniques we've built here.\n",
        "\n",
        "Find an ideal learning rate for a simple convolutional neural network model on your the 10 class dataset."
      ],
      "metadata": {
        "id": "k0hj21qlvL-e"
      }
    },
    {
      "cell_type": "code",
      "source": [
        "# Unzip the dataset\n",
        "import zipfile\n",
        "zip_r = zipfile.ZipFile('cat_dog.zip', 'r')\n",
        "zip_r.extractall()\n",
        "zip_r.close()"
      ],
      "metadata": {
        "id": "pqzHuIQsx7TS"
      },
      "execution_count": 2,
      "outputs": []
    }
  ]
}