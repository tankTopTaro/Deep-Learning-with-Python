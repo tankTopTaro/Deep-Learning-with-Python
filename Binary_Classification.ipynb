{
  "nbformat": 4,
  "nbformat_minor": 0,
  "metadata": {
    "colab": {
      "name": "Binary Classification.ipynb",
      "provenance": [],
      "collapsed_sections": [],
      "toc_visible": true,
      "authorship_tag": "ABX9TyOZJUbDh4Ls+YxtI8yB5EG8",
      "include_colab_link": true
    },
    "kernelspec": {
      "name": "python3",
      "display_name": "Python 3"
    },
    "language_info": {
      "name": "python"
    }
  },
  "cells": [
    {
      "cell_type": "markdown",
      "metadata": {
        "id": "view-in-github",
        "colab_type": "text"
      },
      "source": [
        "<a href=\"https://colab.research.google.com/github/tankTopTaro/Deep-Learning-with-Python/blob/main/Binary_Classification.ipynb\" target=\"_parent\"><img src=\"https://colab.research.google.com/assets/colab-badge.svg\" alt=\"Open In Colab\"/></a>"
      ]
    },
    {
      "cell_type": "markdown",
      "source": [
        "# Classifying Movie Reviews"
      ],
      "metadata": {
        "id": "9wYMvFUaH7lM"
      }
    },
    {
      "cell_type": "code",
      "execution_count": 13,
      "metadata": {
        "id": "c2sMECz0H2aE"
      },
      "outputs": [],
      "source": [
        "# Imports\n",
        "import numpy as np\n",
        "import matplotlib.pyplot as plt\n",
        "\n",
        "from keras.datasets import imdb\n",
        "from keras import models\n",
        "from keras import layers\n",
        "\n",
        "\n",
        "# Loading the IMDB dataset\n",
        "(train_data, train_labels), (test_data, test_labels) = imdb.load_data(num_words=10000)"
      ]
    },
    {
      "cell_type": "code",
      "source": [
        "# Decode reviews back to English words\n",
        "\n",
        "# word_index is a dictionary mapping words to an integer index\n",
        "word_index = imdb.get_word_index()      \n",
        "\n",
        "# Reverses it, mapping integer indices to words\n",
        "reverse_word_index = dict([(value, key) for (key, value) in word_index.items()])    \n",
        "\n",
        "# decodes the review. \n",
        "# Note that indices are offset by 3 because 0, 1, and 2 are reserved indices \n",
        "# for 'padding', 'start of sequence', and 'unknown'\n",
        "decoded_review = ' '.join(reverse_word_index.get(i - 3, '?') for i in train_data[0])\n",
        "\n",
        "# decoded_review"
      ],
      "metadata": {
        "id": "57g3FdpuNVPp"
      },
      "execution_count": 14,
      "outputs": []
    },
    {
      "cell_type": "markdown",
      "source": [
        "Preparing the data"
      ],
      "metadata": {
        "id": "nwwuWFWjPVZ0"
      }
    },
    {
      "cell_type": "code",
      "source": [
        "# Encoding the integer sequences into a binary matrix\n",
        "def vectorize_sequences(sequences, dimension=10000):\n",
        "    # Create an all-zero matrix of shape(len(sequences), dimension)\n",
        "    results = np.zeros((len(sequences), dimension))\n",
        "\n",
        "    for i, sequence in enumerate(sequences):\n",
        "        # Sets specific indices of results[i] to 1s\n",
        "        results[i, sequence] = 1.\n",
        "    return results\n",
        "\n",
        "# Vectorized training data and labels\n",
        "x_train = vectorize_sequences(train_data)\n",
        "y_train = np.asarray(train_labels).astype('float32')\n",
        "\n",
        "# Vectorized test data and labels\n",
        "x_test = vectorize_sequences(test_data)\n",
        "y_test = np.asarray(test_labels).astype('float32')\n",
        "\n",
        "# x_train[0]"
      ],
      "metadata": {
        "id": "uo8C8sWsPSy5"
      },
      "execution_count": 15,
      "outputs": []
    },
    {
      "cell_type": "markdown",
      "source": [
        "Building the network"
      ],
      "metadata": {
        "id": "0H5UhCaCVbox"
      }
    },
    {
      "cell_type": "code",
      "source": [
        "# The model definition\n",
        "model = models.Sequential()\n",
        "model.add(layers.Dense(16, activation='relu', input_shape=(10000,)))\n",
        "model.add(layers.Dense(16, activation='relu'))\n",
        "model.add(layers.Dense(1, activation='sigmoid'))\n",
        "\n",
        "# Compiling the model\n",
        "model.compile(optimizer='rmsprop', loss='binary_crossentropy', metrics=['accuracy'])"
      ],
      "metadata": {
        "id": "lzoN5_2nVe51"
      },
      "execution_count": 16,
      "outputs": []
    },
    {
      "cell_type": "markdown",
      "source": [
        "Validating the approach"
      ],
      "metadata": {
        "id": "9Pbda4DSWtgL"
      }
    },
    {
      "cell_type": "code",
      "source": [
        "# Setting aside a validation set\n",
        "x_val = x_train[:10000]\n",
        "partial_x_train = x_train[10000:]\n",
        "y_val = y_train[:10000]\n",
        "partial_y_train = y_train[10000:]\n",
        "\n",
        "# Training the model\n",
        "history = model.fit(partial_x_train, partial_y_train, epochs=20,\n",
        "                   batch_size=512, validation_data=(x_val, y_val))"
      ],
      "metadata": {
        "colab": {
          "base_uri": "https://localhost:8080/"
        },
        "id": "iAMADh3dWqff",
        "outputId": "7af61326-2812-4fe9-f648-26316904941d"
      },
      "execution_count": 17,
      "outputs": [
        {
          "output_type": "stream",
          "name": "stdout",
          "text": [
            "Epoch 1/20\n",
            "30/30 [==============================] - 2s 51ms/step - loss: 0.5211 - accuracy: 0.7849 - val_loss: 0.4064 - val_accuracy: 0.8531\n",
            "Epoch 2/20\n",
            "30/30 [==============================] - 4s 131ms/step - loss: 0.3113 - accuracy: 0.9003 - val_loss: 0.3026 - val_accuracy: 0.8898\n",
            "Epoch 3/20\n",
            "30/30 [==============================] - 2s 72ms/step - loss: 0.2229 - accuracy: 0.9261 - val_loss: 0.2784 - val_accuracy: 0.8898\n",
            "Epoch 4/20\n",
            "30/30 [==============================] - 1s 36ms/step - loss: 0.1749 - accuracy: 0.9425 - val_loss: 0.2818 - val_accuracy: 0.8865\n",
            "Epoch 5/20\n",
            "30/30 [==============================] - 1s 37ms/step - loss: 0.1431 - accuracy: 0.9515 - val_loss: 0.2925 - val_accuracy: 0.8823\n",
            "Epoch 6/20\n",
            "30/30 [==============================] - 1s 36ms/step - loss: 0.1187 - accuracy: 0.9614 - val_loss: 0.2962 - val_accuracy: 0.8856\n",
            "Epoch 7/20\n",
            "30/30 [==============================] - 1s 39ms/step - loss: 0.0979 - accuracy: 0.9713 - val_loss: 0.3349 - val_accuracy: 0.8756\n",
            "Epoch 8/20\n",
            "30/30 [==============================] - 1s 36ms/step - loss: 0.0802 - accuracy: 0.9777 - val_loss: 0.3827 - val_accuracy: 0.8669\n",
            "Epoch 9/20\n",
            "30/30 [==============================] - 1s 35ms/step - loss: 0.0714 - accuracy: 0.9791 - val_loss: 0.3625 - val_accuracy: 0.8809\n",
            "Epoch 10/20\n",
            "30/30 [==============================] - 1s 36ms/step - loss: 0.0567 - accuracy: 0.9845 - val_loss: 0.3826 - val_accuracy: 0.8793\n",
            "Epoch 11/20\n",
            "30/30 [==============================] - 1s 37ms/step - loss: 0.0464 - accuracy: 0.9889 - val_loss: 0.4114 - val_accuracy: 0.8785\n",
            "Epoch 12/20\n",
            "30/30 [==============================] - 1s 36ms/step - loss: 0.0390 - accuracy: 0.9901 - val_loss: 0.4566 - val_accuracy: 0.8752\n",
            "Epoch 13/20\n",
            "30/30 [==============================] - 1s 35ms/step - loss: 0.0320 - accuracy: 0.9931 - val_loss: 0.4659 - val_accuracy: 0.8729\n",
            "Epoch 14/20\n",
            "30/30 [==============================] - 1s 36ms/step - loss: 0.0275 - accuracy: 0.9941 - val_loss: 0.5048 - val_accuracy: 0.8698\n",
            "Epoch 15/20\n",
            "30/30 [==============================] - 1s 36ms/step - loss: 0.0212 - accuracy: 0.9958 - val_loss: 0.5323 - val_accuracy: 0.8722\n",
            "Epoch 16/20\n",
            "30/30 [==============================] - 1s 35ms/step - loss: 0.0153 - accuracy: 0.9982 - val_loss: 0.5677 - val_accuracy: 0.8675\n",
            "Epoch 17/20\n",
            "30/30 [==============================] - 1s 37ms/step - loss: 0.0162 - accuracy: 0.9967 - val_loss: 0.6029 - val_accuracy: 0.8699\n",
            "Epoch 18/20\n",
            "30/30 [==============================] - 1s 36ms/step - loss: 0.0089 - accuracy: 0.9996 - val_loss: 0.6313 - val_accuracy: 0.8671\n",
            "Epoch 19/20\n",
            "30/30 [==============================] - 1s 36ms/step - loss: 0.0112 - accuracy: 0.9973 - val_loss: 0.6642 - val_accuracy: 0.8665\n",
            "Epoch 20/20\n",
            "30/30 [==============================] - 1s 36ms/step - loss: 0.0050 - accuracy: 0.9998 - val_loss: 0.7047 - val_accuracy: 0.8654\n"
          ]
        }
      ]
    },
    {
      "cell_type": "markdown",
      "source": [
        "`model.fit()` returns a `History `object. This object has a member `history`, which is a dictionary containing data about everything that happened during training"
      ],
      "metadata": {
        "id": "NVvxGpZqYu3A"
      }
    },
    {
      "cell_type": "code",
      "source": [
        "history_dict = history.history\n",
        "history_dict.keys()"
      ],
      "metadata": {
        "colab": {
          "base_uri": "https://localhost:8080/"
        },
        "id": "IgusTBnseEWU",
        "outputId": "f60636b6-13db-41b6-e5a9-907a4c53e56e"
      },
      "execution_count": 18,
      "outputs": [
        {
          "output_type": "execute_result",
          "data": {
            "text/plain": [
              "dict_keys(['loss', 'accuracy', 'val_loss', 'val_accuracy'])"
            ]
          },
          "metadata": {},
          "execution_count": 18
        }
      ]
    },
    {
      "cell_type": "code",
      "source": [
        "loss_values = history_dict['loss']\n",
        "val_loss_values = history_dict['val_loss']\n",
        "epochs = range(1, len(loss_values) + 1)\n",
        "\n",
        "# Plotting the training and validation loss\n",
        "plt.plot(epochs, loss_values, 'bo', label='Training loss')        # 'bo' is for blue dot\n",
        "plt.plot(epochs, val_loss_values, 'b', label='Validation loss')   # 'b' is for solid blue line\n",
        "plt.title('Training and validation loss')\n",
        "plt.xlabel('Epochs')\n",
        "plt.ylabel('Loss')\n",
        "plt.legend()\n",
        "\n",
        "plt.show()"
      ],
      "metadata": {
        "colab": {
          "base_uri": "https://localhost:8080/",
          "height": 295
        },
        "id": "2JSzmJjUZQpQ",
        "outputId": "7b5a03d0-55ac-4ed0-aeb9-32c4f56b6ce8"
      },
      "execution_count": 19,
      "outputs": [
        {
          "output_type": "display_data",
          "data": {
            "text/plain": [
              "<Figure size 432x288 with 1 Axes>"
            ],
            "image/png": "[encoded data removed]"
          },
          "metadata": {
            "needs_background": "light"
          }
        }
      ]
    },
    {
      "cell_type": "code",
      "source": [
        "# Plotting the training and validation accuracy\n",
        "plt.clf()     # Clears the figure\n",
        "\n",
        "acc_values = history_dict['accuracy']\n",
        "val_acc_values = history_dict['val_accuracy']\n",
        "\n",
        "plt.plot(epochs, acc_values, 'bo', label='Training acc')\n",
        "plt.plot(epochs, val_acc_values, 'b', label='Validation acc')\n",
        "plt.title('Training and validation accuracy')\n",
        "plt.xlabel('Epochs')\n",
        "plt.ylabel('Loss')\n",
        "plt.legend()\n",
        "\n",
        "plt.show()"
      ],
      "metadata": {
        "colab": {
          "base_uri": "https://localhost:8080/",
          "height": 295
        },
        "id": "s-uMusbuaCet",
        "outputId": "18583b67-1577-478a-f4eb-62e317008b7f"
      },
      "execution_count": 20,
      "outputs": [
        {
          "output_type": "display_data",
          "data": {
            "text/plain": [
              "<Figure size 432x288 with 1 Axes>"
            ],
            "image/png": "[encoded data removed]"
          },
          "metadata": {
            "needs_background": "light"
          }
        }
      ]
    },
    {
      "cell_type": "code",
      "source": [
        "# Retraining a model from scratch\n",
        "model.fit(x_train, y_train, epochs=4, batch_size=512)\n",
        "results = model.evaluate(x_test, y_test)\n",
        "\n",
        "results"
      ],
      "metadata": {
        "colab": {
          "base_uri": "https://localhost:8080/"
        },
        "id": "Q8AjoXNTrPqR",
        "outputId": "e91b4ede-da4a-44ba-e2bd-06e785bd9073"
      },
      "execution_count": 21,
      "outputs": [
        {
          "output_type": "stream",
          "name": "stdout",
          "text": [
            "Epoch 1/4\n",
            "49/49 [==============================] - 1s 29ms/step - loss: 0.2375 - accuracy: 0.9460\n",
            "Epoch 2/4\n",
            "49/49 [==============================] - 1s 30ms/step - loss: 0.1404 - accuracy: 0.9584\n",
            "Epoch 3/4\n",
            "49/49 [==============================] - 1s 29ms/step - loss: 0.1136 - accuracy: 0.9654\n",
            "Epoch 4/4\n",
            "49/49 [==============================] - 1s 30ms/step - loss: 0.0915 - accuracy: 0.9718\n",
            "782/782 [==============================] - 2s 2ms/step - loss: 0.4813 - accuracy: 0.8547\n"
          ]
        },
        {
          "output_type": "execute_result",
          "data": {
            "text/plain": [
              "[0.48128801584243774, 0.8547199964523315]"
            ]
          },
          "metadata": {},
          "execution_count": 21
        }
      ]
    },
    {
      "cell_type": "markdown",
      "source": [
        "Using a trained network to generate predictions on new data"
      ],
      "metadata": {
        "id": "52JrZnwqr0iI"
      }
    },
    {
      "cell_type": "code",
      "source": [
        "model.predict(x_test)"
      ],
      "metadata": {
        "colab": {
          "base_uri": "https://localhost:8080/"
        },
        "id": "C6MLK5Nmr6Fh",
        "outputId": "85baa7e4-8ec3-4ab1-8d4c-41ce539f34a4"
      },
      "execution_count": 22,
      "outputs": [
        {
          "output_type": "execute_result",
          "data": {
            "text/plain": [
              "array([[0.02377468],\n",
              "       [0.99999654],\n",
              "       [0.9557937 ],\n",
              "       ...,\n",
              "       [0.07914266],\n",
              "       [0.06285229],\n",
              "       [0.74883336]], dtype=float32)"
            ]
          },
          "metadata": {},
          "execution_count": 22
        }
      ]
    }
  ]
}