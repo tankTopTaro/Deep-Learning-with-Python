{
  "nbformat": 4,
  "nbformat_minor": 0,
  "metadata": {
    "colab": {
      "name": "00_tensorflow_fundamentals.ipynb",
      "provenance": [],
      "collapsed_sections": [],
      "authorship_tag": "ABX9TyMLrcuOK4FfI9c9IfAR/Sq1",
      "include_colab_link": true
    },
    "kernelspec": {
      "name": "python3",
      "display_name": "Python 3"
    },
    "language_info": {
      "name": "python"
    }
  },
  "cells": [
    {
      "cell_type": "markdown",
      "metadata": {
        "id": "view-in-github",
        "colab_type": "text"
      },
      "source": [
        "<a href=\"https://colab.research.google.com/github/tankTopTaro/Deep-Learning-with-Python/blob/main/00_tensorflow_fundamentals.ipynb\" target=\"_parent\"><img src=\"https://colab.research.google.com/assets/colab-badge.svg\" alt=\"Open In Colab\"/></a>"
      ]
    },
    {
      "cell_type": "markdown",
      "source": [
        "# This notebook will cover some fundamental concepts of tensors using TensorFlow\n",
        "\n",
        "Thing to covers:\n",
        "* Introduction to tensors\n",
        "* Getting informations from tensors\n",
        "* Manipulating tensors\n",
        "* Tensors & NumPy\n",
        "* Using @tf.function (a way to speed up regular Python functions)\n",
        "* Using GPUs with TensorFlow (or TPUs)\n",
        "* Exercises to try for yourself!\n"
      ],
      "metadata": {
        "id": "ulzzR6A-0idz"
      }
    },
    {
      "cell_type": "markdown",
      "source": [
        "# Introduction to Tensors"
      ],
      "metadata": {
        "id": "PfSMUX4v1lKq"
      }
    },
    {
      "cell_type": "code",
      "execution_count": 12,
      "metadata": {
        "colab": {
          "base_uri": "https://localhost:8080/"
        },
        "id": "fs-4t7jF0bOg",
        "outputId": "c8d398ee-66fc-4ef8-b656-2ff3c1ac2ea5"
      },
      "outputs": [
        {
          "output_type": "stream",
          "name": "stdout",
          "text": [
            "2.8.2\n"
          ]
        }
      ],
      "source": [
        "# Import TensorFlow\n",
        "import tensorflow as tf\n",
        "import numpy as np\n",
        "\n",
        "\n",
        "\n",
        "print(tf.__version__)"
      ]
    },
    {
      "cell_type": "code",
      "source": [
        "# Create tensors with tf.constant()\n",
        "scalar = tf.constant(7)\n",
        "scalar"
      ],
      "metadata": {
        "colab": {
          "base_uri": "https://localhost:8080/"
        },
        "id": "q4k9U3RQ15U0",
        "outputId": "073169c5-0a33-486b-9c33-08197f985f8b"
      },
      "execution_count": null,
      "outputs": [
        {
          "output_type": "execute_result",
          "data": {
            "text/plain": [
              "<tf.Tensor: shape=(), dtype=int32, numpy=7>"
            ]
          },
          "metadata": {},
          "execution_count": 2
        }
      ]
    },
    {
      "cell_type": "code",
      "source": [
        "# Check the number of dimensions of a tensor\n",
        "# (ndim stands for number of dimensions)\n",
        "scalar.ndim"
      ],
      "metadata": {
        "colab": {
          "base_uri": "https://localhost:8080/"
        },
        "id": "yxoLX3VS2a3M",
        "outputId": "d6c8875c-7f20-450f-92d6-75db2eda387e"
      },
      "execution_count": null,
      "outputs": [
        {
          "output_type": "execute_result",
          "data": {
            "text/plain": [
              "0"
            ]
          },
          "metadata": {},
          "execution_count": 3
        }
      ]
    },
    {
      "cell_type": "code",
      "source": [
        "# Create a vector\n",
        "vector = tf.constant([10, 10])\n",
        "vector"
      ],
      "metadata": {
        "colab": {
          "base_uri": "https://localhost:8080/"
        },
        "id": "2yJuOEA52pDL",
        "outputId": "3b818eb6-35b5-49c4-edd2-db5b0cc52ca5"
      },
      "execution_count": null,
      "outputs": [
        {
          "output_type": "execute_result",
          "data": {
            "text/plain": [
              "<tf.Tensor: shape=(2,), dtype=int32, numpy=array([10, 10], dtype=int32)>"
            ]
          },
          "metadata": {},
          "execution_count": 4
        }
      ]
    },
    {
      "cell_type": "code",
      "source": [
        "# Check the dimension of vector\n",
        "vector.ndim"
      ],
      "metadata": {
        "colab": {
          "base_uri": "https://localhost:8080/"
        },
        "id": "3zNMEvpg23oM",
        "outputId": "5afa24b4-6c22-4366-fb2d-739bda9eb07d"
      },
      "execution_count": null,
      "outputs": [
        {
          "output_type": "execute_result",
          "data": {
            "text/plain": [
              "1"
            ]
          },
          "metadata": {},
          "execution_count": 5
        }
      ]
    },
    {
      "cell_type": "code",
      "source": [
        "# Create a matrix\n",
        "matrix = tf.constant([[10, 7],\n",
        "                      [7, 10]])\n",
        "matrix"
      ],
      "metadata": {
        "colab": {
          "base_uri": "https://localhost:8080/"
        },
        "id": "xgQDokoh2_T0",
        "outputId": "41b99513-0e57-4df2-f816-d42b3a5ceeb0"
      },
      "execution_count": null,
      "outputs": [
        {
          "output_type": "execute_result",
          "data": {
            "text/plain": [
              "<tf.Tensor: shape=(2, 2), dtype=int32, numpy=\n",
              "array([[10,  7],\n",
              "       [ 7, 10]], dtype=int32)>"
            ]
          },
          "metadata": {},
          "execution_count": 6
        }
      ]
    },
    {
      "cell_type": "code",
      "source": [
        "# Check the dimension of matrix\n",
        "matrix.ndim"
      ],
      "metadata": {
        "colab": {
          "base_uri": "https://localhost:8080/"
        },
        "id": "I-l_s2NK3R9L",
        "outputId": "c489262b-4751-467a-b553-6b13e8413dd3"
      },
      "execution_count": null,
      "outputs": [
        {
          "output_type": "execute_result",
          "data": {
            "text/plain": [
              "2"
            ]
          },
          "metadata": {},
          "execution_count": 7
        }
      ]
    },
    {
      "cell_type": "code",
      "source": [
        "# Create another matrix\n",
        "# Specify the data type with dtype parameter\n",
        "another_matrix = tf.constant([[10., 7.],\n",
        "                             [3., 2.],\n",
        "                             [8., 9.]], dtype=tf.float16)\n",
        "another_matrix"
      ],
      "metadata": {
        "colab": {
          "base_uri": "https://localhost:8080/"
        },
        "id": "s3kT-EB-3coM",
        "outputId": "aa6781ba-687a-4e66-b718-1b62d205c5fb"
      },
      "execution_count": null,
      "outputs": [
        {
          "output_type": "execute_result",
          "data": {
            "text/plain": [
              "<tf.Tensor: shape=(3, 2), dtype=float16, numpy=\n",
              "array([[10.,  7.],\n",
              "       [ 3.,  2.],\n",
              "       [ 8.,  9.]], dtype=float16)>"
            ]
          },
          "metadata": {},
          "execution_count": 8
        }
      ]
    },
    {
      "cell_type": "code",
      "source": [
        "# Check the dimension of another_matrix\n",
        "another_matrix.ndim"
      ],
      "metadata": {
        "colab": {
          "base_uri": "https://localhost:8080/"
        },
        "id": "RmRxvaxA4QhN",
        "outputId": "53f5d073-b6a1-465f-9ec0-884e1998eacb"
      },
      "execution_count": null,
      "outputs": [
        {
          "output_type": "execute_result",
          "data": {
            "text/plain": [
              "2"
            ]
          },
          "metadata": {},
          "execution_count": 9
        }
      ]
    },
    {
      "cell_type": "code",
      "source": [
        "# Create a tensor\n",
        "tensor = tf.constant([[[1, 2, 3],\n",
        "                       [4, 5, 6]],\n",
        "                      [[7, 8, 9],\n",
        "                       [10, 11, 12]],\n",
        "                      [[13, 14, 15],\n",
        "                       [16, 17, 18]]])\n",
        "tensor"
      ],
      "metadata": {
        "colab": {
          "base_uri": "https://localhost:8080/"
        },
        "id": "mxjqEcp34xk0",
        "outputId": "e0cea729-6a52-413a-d6b2-720c4633efe1"
      },
      "execution_count": null,
      "outputs": [
        {
          "output_type": "execute_result",
          "data": {
            "text/plain": [
              "<tf.Tensor: shape=(3, 2, 3), dtype=int32, numpy=\n",
              "array([[[ 1,  2,  3],\n",
              "        [ 4,  5,  6]],\n",
              "\n",
              "       [[ 7,  8,  9],\n",
              "        [10, 11, 12]],\n",
              "\n",
              "       [[13, 14, 15],\n",
              "        [16, 17, 18]]], dtype=int32)>"
            ]
          },
          "metadata": {},
          "execution_count": 10
        }
      ]
    },
    {
      "cell_type": "code",
      "source": [
        "# Check the dimension of the tensor\n",
        "tensor.ndim"
      ],
      "metadata": {
        "colab": {
          "base_uri": "https://localhost:8080/"
        },
        "id": "qsVTonXW5df0",
        "outputId": "5175b6f4-7ff4-499e-f56c-e215cbfa4059"
      },
      "execution_count": null,
      "outputs": [
        {
          "output_type": "execute_result",
          "data": {
            "text/plain": [
              "3"
            ]
          },
          "metadata": {},
          "execution_count": 11
        }
      ]
    },
    {
      "cell_type": "markdown",
      "source": [
        "* Scalar: a single number\n",
        "* Vector: a number with direction\n",
        "* Matrix: a 2-dimensional array of numbers\n",
        "* Tensor: an n-dimensional array of numbers (a 0-D tensor is a scalar, a 1-D tensor is a vector"
      ],
      "metadata": {
        "id": "iq3owDEK5xHE"
      }
    },
    {
      "cell_type": "markdown",
      "source": [
        "### Creating tensors with `tf.Variable`"
      ],
      "metadata": {
        "id": "FHm0-4QkoJv9"
      }
    },
    {
      "cell_type": "code",
      "source": [
        "tf.Variable"
      ],
      "metadata": {
        "id": "PVplvnhO5nW7",
        "colab": {
          "base_uri": "https://localhost:8080/"
        },
        "outputId": "5511701f-2300-42e8-b66d-17e26d1efea9"
      },
      "execution_count": null,
      "outputs": [
        {
          "output_type": "execute_result",
          "data": {
            "text/plain": [
              "tensorflow.python.ops.variables.Variable"
            ]
          },
          "metadata": {},
          "execution_count": 12
        }
      ]
    },
    {
      "cell_type": "code",
      "source": [
        "# Create the same tensors with tf.Variable() as above\n",
        "changeable_tensor = tf.Variable([10, 7])\n",
        "unchangeable_tensor = tf.constant([10, 7])\n",
        "changeable_tensor, unchangeable_tensor"
      ],
      "metadata": {
        "colab": {
          "base_uri": "https://localhost:8080/"
        },
        "id": "KL5Z4OfjofZ1",
        "outputId": "fb2d0b16-b8c3-40a3-995e-574eaca45e86"
      },
      "execution_count": null,
      "outputs": [
        {
          "output_type": "execute_result",
          "data": {
            "text/plain": [
              "(<tf.Variable 'Variable:0' shape=(2,) dtype=int32, numpy=array([10,  7], dtype=int32)>,\n",
              " <tf.Tensor: shape=(2,), dtype=int32, numpy=array([10,  7], dtype=int32)>)"
            ]
          },
          "metadata": {},
          "execution_count": 13
        }
      ]
    },
    {
      "cell_type": "code",
      "source": [
        "# Try to change an element in changeable_tensor and unchangeable_tensor\n",
        "changeable_tensor[0] = 7\n",
        "changeable_tensor\n"
      ],
      "metadata": {
        "colab": {
          "base_uri": "https://localhost:8080/",
          "height": 200
        },
        "id": "_E1nZbQ1pv9n",
        "outputId": "73a6fe33-f63c-4906-8d14-be5849ce5344"
      },
      "execution_count": null,
      "outputs": [
        {
          "output_type": "error",
          "ename": "TypeError",
          "evalue": "ignored",
          "traceback": [
            "\u001b[0;31m---------------------------------------------------------------------------\u001b[0m",
            "\u001b[0;31mTypeError\u001b[0m                                 Traceback (most recent call last)",
            "\u001b[0;32m<ipython-input-14-c1b3c8500b76>\u001b[0m in \u001b[0;36m<module>\u001b[0;34m\u001b[0m\n\u001b[1;32m      1\u001b[0m \u001b[0;31m# Try to change an element in changeable_tensor and unchangeable_tensor\u001b[0m\u001b[0;34m\u001b[0m\u001b[0;34m\u001b[0m\u001b[0;34m\u001b[0m\u001b[0m\n\u001b[0;32m----> 2\u001b[0;31m \u001b[0mchangeable_tensor\u001b[0m\u001b[0;34m[\u001b[0m\u001b[0;36m0\u001b[0m\u001b[0;34m]\u001b[0m \u001b[0;34m=\u001b[0m \u001b[0;36m7\u001b[0m\u001b[0;34m\u001b[0m\u001b[0;34m\u001b[0m\u001b[0m\n\u001b[0m\u001b[1;32m      3\u001b[0m \u001b[0mchangeable_tensor\u001b[0m\u001b[0;34m\u001b[0m\u001b[0;34m\u001b[0m\u001b[0m\n",
            "\u001b[0;31mTypeError\u001b[0m: 'ResourceVariable' object does not support item assignment"
          ]
        }
      ]
    },
    {
      "cell_type": "code",
      "source": [
        "changeable_tensor[0].assign(7)\n",
        "changeable_tensor"
      ],
      "metadata": {
        "colab": {
          "base_uri": "https://localhost:8080/"
        },
        "id": "5gH-UyJxqwTe",
        "outputId": "f92806b2-19e1-48a7-ebc7-03d5064615e0"
      },
      "execution_count": null,
      "outputs": [
        {
          "output_type": "execute_result",
          "data": {
            "text/plain": [
              "<tf.Variable 'Variable:0' shape=(2,) dtype=int32, numpy=array([7, 7], dtype=int32)>"
            ]
          },
          "metadata": {},
          "execution_count": 15
        }
      ]
    },
    {
      "cell_type": "code",
      "source": [
        "unchangeable_tensor[0] = 7\n",
        "unchangeable_tensor"
      ],
      "metadata": {
        "colab": {
          "base_uri": "https://localhost:8080/",
          "height": 183
        },
        "id": "68gPzYOJq6Ou",
        "outputId": "658abb82-2d57-451d-cebd-168f5be8497a"
      },
      "execution_count": null,
      "outputs": [
        {
          "output_type": "error",
          "ename": "TypeError",
          "evalue": "ignored",
          "traceback": [
            "\u001b[0;31m---------------------------------------------------------------------------\u001b[0m",
            "\u001b[0;31mTypeError\u001b[0m                                 Traceback (most recent call last)",
            "\u001b[0;32m<ipython-input-16-9ab15293b61e>\u001b[0m in \u001b[0;36m<module>\u001b[0;34m\u001b[0m\n\u001b[0;32m----> 1\u001b[0;31m \u001b[0munchangeable_tensor\u001b[0m\u001b[0;34m[\u001b[0m\u001b[0;36m0\u001b[0m\u001b[0;34m]\u001b[0m \u001b[0;34m=\u001b[0m \u001b[0;36m7\u001b[0m\u001b[0;34m\u001b[0m\u001b[0;34m\u001b[0m\u001b[0m\n\u001b[0m\u001b[1;32m      2\u001b[0m \u001b[0munchangeable_tensor\u001b[0m\u001b[0;34m\u001b[0m\u001b[0;34m\u001b[0m\u001b[0m\n",
            "\u001b[0;31mTypeError\u001b[0m: 'tensorflow.python.framework.ops.EagerTensor' object does not support item assignment"
          ]
        }
      ]
    },
    {
      "cell_type": "code",
      "source": [
        "unchangeable_tensor[0].assign(7)\n",
        "unchangeable_tensor"
      ],
      "metadata": {
        "colab": {
          "base_uri": "https://localhost:8080/",
          "height": 304
        },
        "id": "dou27EWKrCEG",
        "outputId": "06a2c1c8-7370-4068-c39b-e345bb91d6c9"
      },
      "execution_count": null,
      "outputs": [
        {
          "output_type": "error",
          "ename": "AttributeError",
          "evalue": "ignored",
          "traceback": [
            "\u001b[0;31m---------------------------------------------------------------------------\u001b[0m",
            "\u001b[0;31mAttributeError\u001b[0m                            Traceback (most recent call last)",
            "\u001b[0;32m<ipython-input-17-958e786d8d1f>\u001b[0m in \u001b[0;36m<module>\u001b[0;34m\u001b[0m\n\u001b[0;32m----> 1\u001b[0;31m \u001b[0munchangeable_tensor\u001b[0m\u001b[0;34m[\u001b[0m\u001b[0;36m0\u001b[0m\u001b[0;34m]\u001b[0m\u001b[0;34m.\u001b[0m\u001b[0massign\u001b[0m\u001b[0;34m(\u001b[0m\u001b[0;36m7\u001b[0m\u001b[0;34m)\u001b[0m\u001b[0;34m\u001b[0m\u001b[0;34m\u001b[0m\u001b[0m\n\u001b[0m\u001b[1;32m      2\u001b[0m \u001b[0munchangeable_tensor\u001b[0m\u001b[0;34m\u001b[0m\u001b[0;34m\u001b[0m\u001b[0m\n",
            "\u001b[0;32m/usr/local/lib/python3.7/dist-packages/tensorflow/python/framework/ops.py\u001b[0m in \u001b[0;36m__getattr__\u001b[0;34m(self, name)\u001b[0m\n\u001b[1;32m    511\u001b[0m         \u001b[0;32mfrom\u001b[0m \u001b[0mtensorflow\u001b[0m\u001b[0;34m.\u001b[0m\u001b[0mpython\u001b[0m\u001b[0;34m.\u001b[0m\u001b[0mops\u001b[0m\u001b[0;34m.\u001b[0m\u001b[0mnumpy_ops\u001b[0m \u001b[0;32mimport\u001b[0m \u001b[0mnp_config\u001b[0m\u001b[0;34m\u001b[0m\u001b[0;34m\u001b[0m\u001b[0m\n\u001b[1;32m    512\u001b[0m         np_config.enable_numpy_behavior()\"\"\".format(type(self).__name__, name))\n\u001b[0;32m--> 513\u001b[0;31m     \u001b[0mself\u001b[0m\u001b[0;34m.\u001b[0m\u001b[0m__getattribute__\u001b[0m\u001b[0;34m(\u001b[0m\u001b[0mname\u001b[0m\u001b[0;34m)\u001b[0m\u001b[0;34m\u001b[0m\u001b[0;34m\u001b[0m\u001b[0m\n\u001b[0m\u001b[1;32m    514\u001b[0m \u001b[0;34m\u001b[0m\u001b[0m\n\u001b[1;32m    515\u001b[0m   \u001b[0;34m@\u001b[0m\u001b[0mstaticmethod\u001b[0m\u001b[0;34m\u001b[0m\u001b[0;34m\u001b[0m\u001b[0m\n",
            "\u001b[0;31mAttributeError\u001b[0m: 'tensorflow.python.framework.ops.EagerTensor' object has no attribute 'assign'"
          ]
        }
      ]
    },
    {
      "cell_type": "markdown",
      "source": [
        "🔑 **Note:** Rarely in practice will you need to decide whether to use `tf.constant` or `tf.Variable` to create tensors, as TensorFlow does this for you. However, if in doubt, use `tf.constant` and change it later if needed."
      ],
      "metadata": {
        "id": "Dpx-C7jVrYcl"
      }
    },
    {
      "cell_type": "markdown",
      "source": [
        "### Creating random tensors\n",
        "Random tensors are tensors of some arbitrary size which contain random numbers."
      ],
      "metadata": {
        "id": "HKs3hawcrOe2"
      }
    },
    {
      "cell_type": "code",
      "source": [
        "# Create two random (but the same) tensors\n",
        "random_1 = tf.random.Generator.from_seed(7)    # set seed for reproducibility\n",
        "random_1 = random_1.normal(shape=(3,2))\n",
        "random_2 = tf.random.Generator.from_seed(7)\n",
        "random_2 = random_2.normal(shape=(3, 2))\n",
        "\n",
        "# Are they equal\n",
        "random_1, random_2, random_1 == random_2"
      ],
      "metadata": {
        "colab": {
          "base_uri": "https://localhost:8080/"
        },
        "id": "hJBzq901rODt",
        "outputId": "e96d5be8-afcb-4a30-825c-15ba967d9541"
      },
      "execution_count": null,
      "outputs": [
        {
          "output_type": "execute_result",
          "data": {
            "text/plain": [
              "(<tf.Tensor: shape=(3, 2), dtype=float32, numpy=\n",
              " array([[-1.3240396 ,  0.28785667],\n",
              "        [-0.8757901 , -0.08857018],\n",
              "        [ 0.69211644,  0.84215707]], dtype=float32)>,\n",
              " <tf.Tensor: shape=(3, 2), dtype=float32, numpy=\n",
              " array([[-1.3240396 ,  0.28785667],\n",
              "        [-0.8757901 , -0.08857018],\n",
              "        [ 0.69211644,  0.84215707]], dtype=float32)>,\n",
              " <tf.Tensor: shape=(3, 2), dtype=bool, numpy=\n",
              " array([[ True,  True],\n",
              "        [ True,  True],\n",
              "        [ True,  True]])>)"
            ]
          },
          "metadata": {},
          "execution_count": 18
        }
      ]
    },
    {
      "cell_type": "markdown",
      "source": [
        "### Shuffle the order of elements in a tensor\n",
        "Shuffling is valuable for when you want to shuffle data so the inherent order doesn't affect learning"
      ],
      "metadata": {
        "id": "UgeICz-2vMcm"
      }
    },
    {
      "cell_type": "code",
      "source": [
        "# Create a non-shuffled tensor\n",
        "not_shuffled = tf.constant([[10, 7],\n",
        "                            [3, 4],\n",
        "                            [2, 5]])\n",
        "\n",
        "# Shuffle the non-shuffled tensor\n",
        "tf.random.set_seed(42)\n",
        "tf.random.shuffle(not_shuffled, seed=42)"
      ],
      "metadata": {
        "colab": {
          "base_uri": "https://localhost:8080/"
        },
        "id": "tO-XGotctvtG",
        "outputId": "de744e1e-75cc-496b-ea22-1befb5dd2e4e"
      },
      "execution_count": null,
      "outputs": [
        {
          "output_type": "execute_result",
          "data": {
            "text/plain": [
              "<tf.Tensor: shape=(3, 2), dtype=int32, numpy=\n",
              "array([[10,  7],\n",
              "       [ 3,  4],\n",
              "       [ 2,  5]], dtype=int32)>"
            ]
          },
          "metadata": {},
          "execution_count": 19
        }
      ]
    },
    {
      "cell_type": "markdown",
      "source": [
        "⚒ **Exercise:** Read through TensorFlow documentation on random seed generation: https://www.tensorflow.org/api_docs/python/tf/random/set_seed and practice writing 5 random tensors"
      ],
      "metadata": {
        "id": "kphdowqwxrjn"
      }
    },
    {
      "cell_type": "code",
      "source": [
        "# if global seed nor the operation seed is set, we get different results for \n",
        "## every call to the random op and every re-run of the program\n",
        "print(tf.random.uniform([1]))  # generates 'A1'\n",
        "print(tf.random.uniform([1]))  # generates 'A2'"
      ],
      "metadata": {
        "colab": {
          "base_uri": "https://localhost:8080/"
        },
        "id": "BgU3IvxaxgVm",
        "outputId": "2e11af77-8ea6-4c4e-d076-737baffa504d"
      },
      "execution_count": null,
      "outputs": [
        {
          "output_type": "stream",
          "name": "stdout",
          "text": [
            "tf.Tensor([0.6645621], shape=(1,), dtype=float32)\n",
            "tf.Tensor([0.68789124], shape=(1,), dtype=float32)\n"
          ]
        }
      ]
    },
    {
      "cell_type": "code",
      "source": [
        "# if global seed is set but the operation seed is not set, we get different results for \n",
        "## every call to the random op, but the same sequence for every re-run of the program\n",
        "tf.random.set_seed(1234)  # Global Seed\n",
        "print(tf.random.uniform([1]))  # generates 'A1'\n",
        "print(tf.random.uniform([1]))  # generates 'A2'\n",
        "print(tf.random.uniform([1]))  # generates 'A3'"
      ],
      "metadata": {
        "colab": {
          "base_uri": "https://localhost:8080/"
        },
        "id": "fpRjS167zETG",
        "outputId": "b9a94152-d69f-4f14-a341-4bb1f70c4122"
      },
      "execution_count": null,
      "outputs": [
        {
          "output_type": "stream",
          "name": "stdout",
          "text": [
            "tf.Tensor([0.5380393], shape=(1,), dtype=float32)\n",
            "tf.Tensor([0.3253647], shape=(1,), dtype=float32)\n",
            "tf.Tensor([0.59750986], shape=(1,), dtype=float32)\n"
          ]
        }
      ]
    },
    {
      "cell_type": "code",
      "source": [
        "# if the operation seed is set, we get different results for every call to the random op,\n",
        "## but the same sequence for every re-run of the program\n",
        "print(tf.random.uniform([1], seed=1))  # generates 'A1'\n",
        "print(tf.random.uniform([1], seed=1))  # generates 'A2'\n",
        "print(tf.random.uniform([1], seed=1))  # generates 'A3'"
      ],
      "metadata": {
        "colab": {
          "base_uri": "https://localhost:8080/"
        },
        "id": "mMdekl0x0odG",
        "outputId": "61a9e285-5f84-481b-c8d7-35e223795238"
      },
      "execution_count": null,
      "outputs": [
        {
          "output_type": "stream",
          "name": "stdout",
          "text": [
            "tf.Tensor([0.1689806], shape=(1,), dtype=float32)\n",
            "tf.Tensor([0.7539084], shape=(1,), dtype=float32)\n",
            "tf.Tensor([0.4243431], shape=(1,), dtype=float32)\n"
          ]
        }
      ]
    },
    {
      "cell_type": "code",
      "source": [
        "# global and operation seed is set\n",
        "unshuffled = tf.constant([[[1, 2, 3],\n",
        "                           [4, 5, 6]],\n",
        "                          [[7, 8, 9],\n",
        "                           [10, 11, 12]],\n",
        "                          [[13, 14, 15],\n",
        "                           [16, 17, 18]]])\n",
        "tf.random.set_seed(20)\n",
        "tf.random.shuffle(unshuffled, seed=20)"
      ],
      "metadata": {
        "id": "whERLlyn02O0",
        "colab": {
          "base_uri": "https://localhost:8080/"
        },
        "outputId": "d6a84512-86f6-4510-94b1-03acb2aafa88"
      },
      "execution_count": null,
      "outputs": [
        {
          "output_type": "execute_result",
          "data": {
            "text/plain": [
              "<tf.Tensor: shape=(3, 2, 3), dtype=int32, numpy=\n",
              "array([[[13, 14, 15],\n",
              "        [16, 17, 18]],\n",
              "\n",
              "       [[ 7,  8,  9],\n",
              "        [10, 11, 12]],\n",
              "\n",
              "       [[ 1,  2,  3],\n",
              "        [ 4,  5,  6]]], dtype=int32)>"
            ]
          },
          "metadata": {},
          "execution_count": 23
        }
      ]
    },
    {
      "cell_type": "code",
      "source": [
        "# no global seed nor operation seed is set\n",
        "unshuffled = tf.constant([[[1, 2, 3],\n",
        "                           [4, 5, 6]],\n",
        "                         [[7, 8, 9],\n",
        "                           [10, 11, 12]]])\n",
        "tf.random.shuffle(unshuffled)"
      ],
      "metadata": {
        "colab": {
          "base_uri": "https://localhost:8080/"
        },
        "id": "rtEPBj4mvsOl",
        "outputId": "ac21115a-5f0f-46b1-a1eb-88cca88e2e71"
      },
      "execution_count": null,
      "outputs": [
        {
          "output_type": "execute_result",
          "data": {
            "text/plain": [
              "<tf.Tensor: shape=(2, 2, 3), dtype=int32, numpy=\n",
              "array([[[ 1,  2,  3],\n",
              "        [ 4,  5,  6]],\n",
              "\n",
              "       [[ 7,  8,  9],\n",
              "        [10, 11, 12]]], dtype=int32)>"
            ]
          },
          "metadata": {},
          "execution_count": 26
        }
      ]
    },
    {
      "cell_type": "code",
      "source": [
        "# operation seed is set\n",
        "unshuffled = tf.constant([[[1, 2, 3],\n",
        "                           [4, 5, 6]],\n",
        "                         [[7, 8, 9],\n",
        "                           [10, 11, 12]]])\n",
        "tf.random.shuffle(unshuffled, seed=123)"
      ],
      "metadata": {
        "colab": {
          "base_uri": "https://localhost:8080/"
        },
        "id": "mdzlsRf6wu18",
        "outputId": "e593a76e-b9ab-4575-b784-8a22bc8c6a29"
      },
      "execution_count": null,
      "outputs": [
        {
          "output_type": "execute_result",
          "data": {
            "text/plain": [
              "<tf.Tensor: shape=(2, 2, 3), dtype=int32, numpy=\n",
              "array([[[ 7,  8,  9],\n",
              "        [10, 11, 12]],\n",
              "\n",
              "       [[ 1,  2,  3],\n",
              "        [ 4,  5,  6]]], dtype=int32)>"
            ]
          },
          "metadata": {},
          "execution_count": 25
        }
      ]
    },
    {
      "cell_type": "code",
      "source": [
        "# global seed is set\n",
        "unshuffled = tf.constant([[[1, 2, 3],\n",
        "                           [4, 5, 6]],\n",
        "                         [[7, 8, 9],\n",
        "                           [10, 11, 12]]])\n",
        "tf.random.set_seed(123)\n",
        "tf.random.shuffle(unshuffled)"
      ],
      "metadata": {
        "colab": {
          "base_uri": "https://localhost:8080/"
        },
        "id": "YWAv6hLIxCIC",
        "outputId": "42f8b886-18c0-4390-aaaa-8100354c4195"
      },
      "execution_count": null,
      "outputs": [
        {
          "output_type": "execute_result",
          "data": {
            "text/plain": [
              "<tf.Tensor: shape=(2, 2, 3), dtype=int32, numpy=\n",
              "array([[[ 7,  8,  9],\n",
              "        [10, 11, 12]],\n",
              "\n",
              "       [[ 1,  2,  3],\n",
              "        [ 4,  5,  6]]], dtype=int32)>"
            ]
          },
          "metadata": {},
          "execution_count": 24
        }
      ]
    },
    {
      "cell_type": "markdown",
      "source": [
        "### Other ways to make tensors"
      ],
      "metadata": {
        "id": "TKsa-Xjkzw_W"
      }
    },
    {
      "cell_type": "code",
      "source": [
        "tf.ones([2, 4])"
      ],
      "metadata": {
        "colab": {
          "base_uri": "https://localhost:8080/"
        },
        "id": "QvcCzj-K08B-",
        "outputId": "23dd36a9-a8b0-4ab7-acfd-aa777c861140"
      },
      "execution_count": null,
      "outputs": [
        {
          "output_type": "execute_result",
          "data": {
            "text/plain": [
              "<tf.Tensor: shape=(2, 4), dtype=float32, numpy=\n",
              "array([[1., 1., 1., 1.],\n",
              "       [1., 1., 1., 1.]], dtype=float32)>"
            ]
          },
          "metadata": {},
          "execution_count": 30
        }
      ]
    },
    {
      "cell_type": "code",
      "source": [
        "tf.zeros(shape=(4, 2))"
      ],
      "metadata": {
        "colab": {
          "base_uri": "https://localhost:8080/"
        },
        "id": "E1EnJF-P1Ejl",
        "outputId": "2af05596-33c1-43a2-9227-13361527c533"
      },
      "execution_count": null,
      "outputs": [
        {
          "output_type": "execute_result",
          "data": {
            "text/plain": [
              "<tf.Tensor: shape=(4, 2), dtype=float32, numpy=\n",
              "array([[0., 0.],\n",
              "       [0., 0.],\n",
              "       [0., 0.],\n",
              "       [0., 0.]], dtype=float32)>"
            ]
          },
          "metadata": {},
          "execution_count": 29
        }
      ]
    },
    {
      "cell_type": "markdown",
      "source": [
        "### Turn Numpy arrays into tensors"
      ],
      "metadata": {
        "id": "tzefouhk1TWt"
      }
    },
    {
      "cell_type": "code",
      "source": [
        "numpy_A = np.arange(1, 25, dtype=np.int32)\n",
        "numpy_A"
      ],
      "metadata": {
        "colab": {
          "base_uri": "https://localhost:8080/"
        },
        "id": "MPvD5zlw1L_F",
        "outputId": "de4d11da-82a8-41e8-f0c7-ad87410dc62f"
      },
      "execution_count": 2,
      "outputs": [
        {
          "output_type": "execute_result",
          "data": {
            "text/plain": [
              "array([ 1,  2,  3,  4,  5,  6,  7,  8,  9, 10, 11, 12, 13, 14, 15, 16, 17,\n",
              "       18, 19, 20, 21, 22, 23, 24], dtype=int32)"
            ]
          },
          "metadata": {},
          "execution_count": 2
        }
      ]
    },
    {
      "cell_type": "code",
      "source": [
        "A = tf.constant(numpy_A, shape=(2, 3, 4))\n",
        "B = tf.constant(numpy_A)\n",
        "A, B"
      ],
      "metadata": {
        "colab": {
          "base_uri": "https://localhost:8080/"
        },
        "id": "Irvz-5qy18o-",
        "outputId": "2f2cd3b0-d089-4349-9384-11a4aa583d6c"
      },
      "execution_count": null,
      "outputs": [
        {
          "output_type": "execute_result",
          "data": {
            "text/plain": [
              "(<tf.Tensor: shape=(2, 3, 4), dtype=int32, numpy=\n",
              " array([[[ 1,  2,  3,  4],\n",
              "         [ 5,  6,  7,  8],\n",
              "         [ 9, 10, 11, 12]],\n",
              " \n",
              "        [[13, 14, 15, 16],\n",
              "         [17, 18, 19, 20],\n",
              "         [21, 22, 23, 24]]], dtype=int32)>,\n",
              " <tf.Tensor: shape=(24,), dtype=int32, numpy=\n",
              " array([ 1,  2,  3,  4,  5,  6,  7,  8,  9, 10, 11, 12, 13, 14, 15, 16, 17,\n",
              "        18, 19, 20, 21, 22, 23, 24], dtype=int32)>)"
            ]
          },
          "metadata": {},
          "execution_count": 31
        }
      ]
    },
    {
      "cell_type": "markdown",
      "source": [
        "### Getting information from tensors\n",
        "Tensor Attributes\n",
        "* Shape — `tensor.shape`\n",
        "* Rank — `tensor.ndim`\n",
        "* Axis or dimension — `tensor[0], tensor[:, 1]...`\n",
        "* Size — `tf.size(tensor)`\n"
      ],
      "metadata": {
        "id": "tsy42E9U2w8u"
      }
    },
    {
      "cell_type": "code",
      "source": [
        "# Create a rank 4 tensor\n",
        "rank_4_tensor = tf.zeros(shape=[2, 3, 4, 5])\n",
        "rank_4_tensor"
      ],
      "metadata": {
        "colab": {
          "base_uri": "https://localhost:8080/"
        },
        "id": "1u2jqHqS22Ol",
        "outputId": "46f06dbf-eacd-4e85-a4be-0a23ae987b8e"
      },
      "execution_count": null,
      "outputs": [
        {
          "output_type": "execute_result",
          "data": {
            "text/plain": [
              "<tf.Tensor: shape=(2, 3, 4, 5), dtype=float32, numpy=\n",
              "array([[[[0., 0., 0., 0., 0.],\n",
              "         [0., 0., 0., 0., 0.],\n",
              "         [0., 0., 0., 0., 0.],\n",
              "         [0., 0., 0., 0., 0.]],\n",
              "\n",
              "        [[0., 0., 0., 0., 0.],\n",
              "         [0., 0., 0., 0., 0.],\n",
              "         [0., 0., 0., 0., 0.],\n",
              "         [0., 0., 0., 0., 0.]],\n",
              "\n",
              "        [[0., 0., 0., 0., 0.],\n",
              "         [0., 0., 0., 0., 0.],\n",
              "         [0., 0., 0., 0., 0.],\n",
              "         [0., 0., 0., 0., 0.]]],\n",
              "\n",
              "\n",
              "       [[[0., 0., 0., 0., 0.],\n",
              "         [0., 0., 0., 0., 0.],\n",
              "         [0., 0., 0., 0., 0.],\n",
              "         [0., 0., 0., 0., 0.]],\n",
              "\n",
              "        [[0., 0., 0., 0., 0.],\n",
              "         [0., 0., 0., 0., 0.],\n",
              "         [0., 0., 0., 0., 0.],\n",
              "         [0., 0., 0., 0., 0.]],\n",
              "\n",
              "        [[0., 0., 0., 0., 0.],\n",
              "         [0., 0., 0., 0., 0.],\n",
              "         [0., 0., 0., 0., 0.],\n",
              "         [0., 0., 0., 0., 0.]]]], dtype=float32)>"
            ]
          },
          "metadata": {},
          "execution_count": 35
        }
      ]
    },
    {
      "cell_type": "code",
      "source": [
        "# Axis\n",
        "rank_4_tensor[0]"
      ],
      "metadata": {
        "colab": {
          "base_uri": "https://localhost:8080/"
        },
        "id": "xAoUZFKQ4vY-",
        "outputId": "699a962c-ef08-48fb-b010-fb3eefbbb674"
      },
      "execution_count": null,
      "outputs": [
        {
          "output_type": "execute_result",
          "data": {
            "text/plain": [
              "<tf.Tensor: shape=(3, 4, 5), dtype=float32, numpy=\n",
              "array([[[0., 0., 0., 0., 0.],\n",
              "        [0., 0., 0., 0., 0.],\n",
              "        [0., 0., 0., 0., 0.],\n",
              "        [0., 0., 0., 0., 0.]],\n",
              "\n",
              "       [[0., 0., 0., 0., 0.],\n",
              "        [0., 0., 0., 0., 0.],\n",
              "        [0., 0., 0., 0., 0.],\n",
              "        [0., 0., 0., 0., 0.]],\n",
              "\n",
              "       [[0., 0., 0., 0., 0.],\n",
              "        [0., 0., 0., 0., 0.],\n",
              "        [0., 0., 0., 0., 0.],\n",
              "        [0., 0., 0., 0., 0.]]], dtype=float32)>"
            ]
          },
          "metadata": {},
          "execution_count": 36
        }
      ]
    },
    {
      "cell_type": "code",
      "source": [
        "# Shape, Rank, Size\n",
        "rank_4_tensor.shape, rank_4_tensor.ndim, tf.size(rank_4_tensor)"
      ],
      "metadata": {
        "colab": {
          "base_uri": "https://localhost:8080/"
        },
        "id": "PMkzZjJz5Bus",
        "outputId": "b6e50fec-8eaa-4b5a-d416-20d85823f9a1"
      },
      "execution_count": null,
      "outputs": [
        {
          "output_type": "execute_result",
          "data": {
            "text/plain": [
              "(TensorShape([2, 3, 4, 5]), 4, <tf.Tensor: shape=(), dtype=int32, numpy=120>)"
            ]
          },
          "metadata": {},
          "execution_count": 37
        }
      ]
    },
    {
      "cell_type": "code",
      "source": [
        "# Visualize the attributes\n",
        "print(\"Datatype of every element: \", rank_4_tensor.dtype)\n",
        "print(\"Number of dimension (rank): \", rank_4_tensor.ndim)\n",
        "print(\"Shape of tensor: \", rank_4_tensor.shape)\n",
        "print(\"Elements along the 0 axis: \", rank_4_tensor.shape[0])\n",
        "print(\"Elements along the last axis: \", rank_4_tensor.shape[-1])\n",
        "print(\"Total number of elements in our tensor: \", tf.size(rank_4_tensor))\n",
        "print(\"Total number of elements in our tensor: \", tf.size(rank_4_tensor).numpy())"
      ],
      "metadata": {
        "colab": {
          "base_uri": "https://localhost:8080/"
        },
        "id": "A1U924wO58r9",
        "outputId": "7bfcda54-1802-4dc6-9eb9-338fcf00b765"
      },
      "execution_count": null,
      "outputs": [
        {
          "output_type": "stream",
          "name": "stdout",
          "text": [
            "Datatype of every element:  <dtype: 'float32'>\n",
            "Number of dimension (rank):  4\n",
            "Shape of tensor:  (2, 3, 4, 5)\n",
            "Elements along the 0 axis:  2\n",
            "Elements along the last axis:  5\n",
            "Total number of elements in our tensor:  tf.Tensor(120, shape=(), dtype=int32)\n",
            "Total number of elements in our tensor:  120\n"
          ]
        }
      ]
    },
    {
      "cell_type": "markdown",
      "source": [
        "### Indexing tensors\n",
        "Tensors can be indexed just liked Python lists."
      ],
      "metadata": {
        "id": "1sDyU6sq6vWh"
      }
    },
    {
      "cell_type": "code",
      "source": [
        "some_list = [1, 2, 3, 4]\n",
        "some_list[:2]"
      ],
      "metadata": {
        "colab": {
          "base_uri": "https://localhost:8080/"
        },
        "id": "MTuKn0WI7d75",
        "outputId": "396d9183-2369-4055-88ca-0e1d2ecbc485"
      },
      "execution_count": null,
      "outputs": [
        {
          "output_type": "execute_result",
          "data": {
            "text/plain": [
              "[1, 2]"
            ]
          },
          "metadata": {},
          "execution_count": 39
        }
      ]
    },
    {
      "cell_type": "code",
      "source": [
        "# Get the first 2 elements of each dimension\n",
        "rank_4_tensor[:2, :2, :2, :2]"
      ],
      "metadata": {
        "colab": {
          "base_uri": "https://localhost:8080/"
        },
        "id": "FppP2MRS68Sw",
        "outputId": "8da36d37-029a-4a7c-e2f9-7ba9187c692b"
      },
      "execution_count": null,
      "outputs": [
        {
          "output_type": "execute_result",
          "data": {
            "text/plain": [
              "<tf.Tensor: shape=(2, 2, 2, 2), dtype=float32, numpy=\n",
              "array([[[[0., 0.],\n",
              "         [0., 0.]],\n",
              "\n",
              "        [[0., 0.],\n",
              "         [0., 0.]]],\n",
              "\n",
              "\n",
              "       [[[0., 0.],\n",
              "         [0., 0.]],\n",
              "\n",
              "        [[0., 0.],\n",
              "         [0., 0.]]]], dtype=float32)>"
            ]
          },
          "metadata": {},
          "execution_count": 40
        }
      ]
    },
    {
      "cell_type": "code",
      "source": [
        "some_list[:1]"
      ],
      "metadata": {
        "colab": {
          "base_uri": "https://localhost:8080/"
        },
        "id": "QURar1fm8EMU",
        "outputId": "9b93fe37-0562-4fda-cfc1-ebf8465e1f58"
      },
      "execution_count": null,
      "outputs": [
        {
          "output_type": "execute_result",
          "data": {
            "text/plain": [
              "[1]"
            ]
          },
          "metadata": {},
          "execution_count": 41
        }
      ]
    },
    {
      "cell_type": "code",
      "source": [
        "# Get the first element from each dimension from each index except for the final one\n",
        "rank_4_tensor[:1, :1, :1, :]"
      ],
      "metadata": {
        "colab": {
          "base_uri": "https://localhost:8080/"
        },
        "id": "B6xpkEwy7vrI",
        "outputId": "e8bca6bb-920e-421d-d6a7-14b7e2046884"
      },
      "execution_count": null,
      "outputs": [
        {
          "output_type": "execute_result",
          "data": {
            "text/plain": [
              "<tf.Tensor: shape=(1, 1, 1, 5), dtype=float32, numpy=array([[[[0., 0., 0., 0., 0.]]]], dtype=float32)>"
            ]
          },
          "metadata": {},
          "execution_count": 42
        }
      ]
    },
    {
      "cell_type": "code",
      "source": [
        "# Create a rank 2 tensor\n",
        "rank_2_tensor = tf.constant([[4, 5],\n",
        "                             [2, 4]])\n",
        "rank_2_tensor.shape, rank_2_tensor.ndim"
      ],
      "metadata": {
        "colab": {
          "base_uri": "https://localhost:8080/"
        },
        "id": "65zyMe9p8imx",
        "outputId": "4b33d17c-3e78-48b9-dd87-1d7b1a3ad141"
      },
      "execution_count": null,
      "outputs": [
        {
          "output_type": "execute_result",
          "data": {
            "text/plain": [
              "(TensorShape([2, 2]), 2)"
            ]
          },
          "metadata": {},
          "execution_count": 43
        }
      ]
    },
    {
      "cell_type": "code",
      "source": [
        "some_list, some_list[-1]"
      ],
      "metadata": {
        "colab": {
          "base_uri": "https://localhost:8080/"
        },
        "id": "OjuH4fKm9BR1",
        "outputId": "ee78f4a4-6362-4beb-e8e1-4230d1271d3b"
      },
      "execution_count": null,
      "outputs": [
        {
          "output_type": "execute_result",
          "data": {
            "text/plain": [
              "([1, 2, 3, 4], 4)"
            ]
          },
          "metadata": {},
          "execution_count": 44
        }
      ]
    },
    {
      "cell_type": "code",
      "source": [
        "# Get the last item of each row of our rank 2 tensor\n",
        "rank_2_tensor[:, -1]"
      ],
      "metadata": {
        "colab": {
          "base_uri": "https://localhost:8080/"
        },
        "id": "U4YYabu_83P1",
        "outputId": "ce153c53-86d1-4a30-8099-0e80979255d0"
      },
      "execution_count": null,
      "outputs": [
        {
          "output_type": "execute_result",
          "data": {
            "text/plain": [
              "<tf.Tensor: shape=(2,), dtype=int32, numpy=array([5, 4], dtype=int32)>"
            ]
          },
          "metadata": {},
          "execution_count": 45
        }
      ]
    },
    {
      "cell_type": "code",
      "source": [
        "# Add in extra dimension to our rank 2 tensor\n",
        "rank_3_tensor = rank_2_tensor[..., tf.newaxis]\n",
        "rank_3_tensor"
      ],
      "metadata": {
        "colab": {
          "base_uri": "https://localhost:8080/"
        },
        "id": "Q2uYF_9h9Uu5",
        "outputId": "943b6663-70f8-4e61-8b5a-aca76181d664"
      },
      "execution_count": null,
      "outputs": [
        {
          "output_type": "execute_result",
          "data": {
            "text/plain": [
              "<tf.Tensor: shape=(2, 2, 1), dtype=int32, numpy=\n",
              "array([[[4],\n",
              "        [5]],\n",
              "\n",
              "       [[2],\n",
              "        [4]]], dtype=int32)>"
            ]
          },
          "metadata": {},
          "execution_count": 46
        }
      ]
    },
    {
      "cell_type": "code",
      "source": [
        "# Alternative to tf.newaxis\n",
        "tf.expand_dims(rank_2_tensor, axis=-1)    # '-1' means expand the final axis"
      ],
      "metadata": {
        "colab": {
          "base_uri": "https://localhost:8080/"
        },
        "id": "i5y06ZUE9ziB",
        "outputId": "f0bab3f2-e7d3-4dfd-8dc3-e762b1cb4de4"
      },
      "execution_count": null,
      "outputs": [
        {
          "output_type": "execute_result",
          "data": {
            "text/plain": [
              "<tf.Tensor: shape=(2, 2, 1), dtype=int32, numpy=\n",
              "array([[[4],\n",
              "        [5]],\n",
              "\n",
              "       [[2],\n",
              "        [4]]], dtype=int32)>"
            ]
          },
          "metadata": {},
          "execution_count": 47
        }
      ]
    },
    {
      "cell_type": "code",
      "source": [
        "tf.expand_dims(rank_2_tensor, axis=0)   # expand the 0-axis"
      ],
      "metadata": {
        "colab": {
          "base_uri": "https://localhost:8080/"
        },
        "id": "5l1XLXVl-aoq",
        "outputId": "19a25a13-2a6b-45c1-adee-44fa32268135"
      },
      "execution_count": null,
      "outputs": [
        {
          "output_type": "execute_result",
          "data": {
            "text/plain": [
              "<tf.Tensor: shape=(1, 2, 2), dtype=int32, numpy=\n",
              "array([[[4, 5],\n",
              "        [2, 4]]], dtype=int32)>"
            ]
          },
          "metadata": {},
          "execution_count": 48
        }
      ]
    },
    {
      "cell_type": "markdown",
      "source": [
        "### Manipulating tensors (tensor operations)\n",
        "**Basic operations**\n",
        "\n",
        "`+`,`-`,`*`,`/`"
      ],
      "metadata": {
        "id": "lfbgFNeLEzS_"
      }
    },
    {
      "cell_type": "code",
      "source": [
        "# Tensor addition\n",
        "tensor = tf.constant([[10, 7], [3, 4]])\n",
        "tensor + 10"
      ],
      "metadata": {
        "colab": {
          "base_uri": "https://localhost:8080/"
        },
        "id": "wFBwQkSHFCm_",
        "outputId": "1a36dfc2-b95f-4c7e-d8cf-ff8b0a3161ac"
      },
      "execution_count": null,
      "outputs": [
        {
          "output_type": "execute_result",
          "data": {
            "text/plain": [
              "<tf.Tensor: shape=(2, 2), dtype=int32, numpy=\n",
              "array([[20, 17],\n",
              "       [13, 14]], dtype=int32)>"
            ]
          },
          "metadata": {},
          "execution_count": 49
        }
      ]
    },
    {
      "cell_type": "code",
      "source": [
        "# Original tensor is unchanged\n",
        "tensor"
      ],
      "metadata": {
        "colab": {
          "base_uri": "https://localhost:8080/"
        },
        "id": "e7oZwOnkGNTw",
        "outputId": "89bcfdb1-0a1a-4e39-c53a-f78d6848ea36"
      },
      "execution_count": null,
      "outputs": [
        {
          "output_type": "execute_result",
          "data": {
            "text/plain": [
              "<tf.Tensor: shape=(2, 2), dtype=int32, numpy=\n",
              "array([[10,  7],\n",
              "       [ 3,  4]], dtype=int32)>"
            ]
          },
          "metadata": {},
          "execution_count": 50
        }
      ]
    },
    {
      "cell_type": "code",
      "source": [
        "# Multiplication\n",
        "tensor * 10"
      ],
      "metadata": {
        "colab": {
          "base_uri": "https://localhost:8080/"
        },
        "id": "DkbYsj3uGZcn",
        "outputId": "209d6df0-d4af-40dc-badd-22f05a0e312b"
      },
      "execution_count": null,
      "outputs": [
        {
          "output_type": "execute_result",
          "data": {
            "text/plain": [
              "<tf.Tensor: shape=(2, 2), dtype=int32, numpy=\n",
              "array([[100,  70],\n",
              "       [ 30,  40]], dtype=int32)>"
            ]
          },
          "metadata": {},
          "execution_count": 51
        }
      ]
    },
    {
      "cell_type": "code",
      "source": [
        "# Subtraction\n",
        "tensor - 10"
      ],
      "metadata": {
        "colab": {
          "base_uri": "https://localhost:8080/"
        },
        "id": "CQaqCix3GecP",
        "outputId": "a74d523b-7249-4be2-c2ea-8df460a204b1"
      },
      "execution_count": null,
      "outputs": [
        {
          "output_type": "execute_result",
          "data": {
            "text/plain": [
              "<tf.Tensor: shape=(2, 2), dtype=int32, numpy=\n",
              "array([[ 0, -3],\n",
              "       [-7, -6]], dtype=int32)>"
            ]
          },
          "metadata": {},
          "execution_count": 52
        }
      ]
    },
    {
      "cell_type": "code",
      "source": [
        "# Division\n",
        "tensor / 10"
      ],
      "metadata": {
        "colab": {
          "base_uri": "https://localhost:8080/"
        },
        "id": "aOdrCFBlGnlH",
        "outputId": "8e0e7524-3e81-46b2-fc44-43094bdf3b4d"
      },
      "execution_count": null,
      "outputs": [
        {
          "output_type": "execute_result",
          "data": {
            "text/plain": [
              "<tf.Tensor: shape=(2, 2), dtype=float64, numpy=\n",
              "array([[1. , 0.7],\n",
              "       [0.3, 0.4]])>"
            ]
          },
          "metadata": {},
          "execution_count": 53
        }
      ]
    },
    {
      "cell_type": "markdown",
      "source": [
        "**Using tensorflow built-in function**"
      ],
      "metadata": {
        "id": "PweLlYP9Guko"
      }
    },
    {
      "cell_type": "code",
      "source": [
        "# Addition\n",
        "tf.add(tensor, 10)"
      ],
      "metadata": {
        "colab": {
          "base_uri": "https://localhost:8080/"
        },
        "id": "BrhTOoqiHMyO",
        "outputId": "72125b84-c133-493d-e5ab-1dc9ad10cef0"
      },
      "execution_count": null,
      "outputs": [
        {
          "output_type": "execute_result",
          "data": {
            "text/plain": [
              "<tf.Tensor: shape=(2, 2), dtype=int32, numpy=\n",
              "array([[20, 17],\n",
              "       [13, 14]], dtype=int32)>"
            ]
          },
          "metadata": {},
          "execution_count": 55
        }
      ]
    },
    {
      "cell_type": "code",
      "source": [
        "# Multiplication\n",
        "tf.multiply(tensor, 10)"
      ],
      "metadata": {
        "colab": {
          "base_uri": "https://localhost:8080/"
        },
        "id": "zVTn_6z_G5ng",
        "outputId": "4139cf3e-5b68-405b-ab56-51ccc44d32d3"
      },
      "execution_count": null,
      "outputs": [
        {
          "output_type": "execute_result",
          "data": {
            "text/plain": [
              "<tf.Tensor: shape=(2, 2), dtype=int32, numpy=\n",
              "array([[100,  70],\n",
              "       [ 30,  40]], dtype=int32)>"
            ]
          },
          "metadata": {},
          "execution_count": 54
        }
      ]
    },
    {
      "cell_type": "code",
      "source": [
        "# Subtraction\n",
        "tf.subtract(tensor, 10)"
      ],
      "metadata": {
        "colab": {
          "base_uri": "https://localhost:8080/"
        },
        "id": "zTmJfWlIHM72",
        "outputId": "29eed055-1ecc-4edf-9cbf-c89f8eb5326b"
      },
      "execution_count": null,
      "outputs": [
        {
          "output_type": "execute_result",
          "data": {
            "text/plain": [
              "<tf.Tensor: shape=(2, 2), dtype=int32, numpy=\n",
              "array([[ 0, -3],\n",
              "       [-7, -6]], dtype=int32)>"
            ]
          },
          "metadata": {},
          "execution_count": 56
        }
      ]
    },
    {
      "cell_type": "code",
      "source": [
        "# Division\n",
        "tf.divide(tensor, 10)"
      ],
      "metadata": {
        "colab": {
          "base_uri": "https://localhost:8080/"
        },
        "id": "X9A8ofxZHNC2",
        "outputId": "734e12c0-8e59-4be5-81ef-10eefabcf5ce"
      },
      "execution_count": null,
      "outputs": [
        {
          "output_type": "execute_result",
          "data": {
            "text/plain": [
              "<tf.Tensor: shape=(2, 2), dtype=float64, numpy=\n",
              "array([[1. , 0.7],\n",
              "       [0.3, 0.4]])>"
            ]
          },
          "metadata": {},
          "execution_count": 57
        }
      ]
    },
    {
      "cell_type": "markdown",
      "source": [
        "### Matrix multiplication\n",
        "\n",
        "**Rules when multipying matrices:**\n",
        "\n",
        "\n",
        "1.   The inner dimensions must match.\n",
        "2.   The resulting matrix has the shape of the outer dimension.\n",
        "\n"
      ],
      "metadata": {
        "id": "v0qQ8aNkHurP"
      }
    },
    {
      "cell_type": "code",
      "source": [
        "# Matrix multiplication with tensorflow\n",
        "tensor_1 = tf.constant([[1, 2, 5], [7, 2, 1], [3, 3, 3]])\n",
        "tensor_2 = tf.constant([[3, 5], [6, 7], [1, 8]])\n",
        "tf.matmul(tensor_1, tensor_2)"
      ],
      "metadata": {
        "colab": {
          "base_uri": "https://localhost:8080/"
        },
        "id": "5f2GswwFHj8Y",
        "outputId": "94263c70-b837-4c2d-e1df-dba2ca970188"
      },
      "execution_count": null,
      "outputs": [
        {
          "output_type": "execute_result",
          "data": {
            "text/plain": [
              "<tf.Tensor: shape=(3, 2), dtype=int32, numpy=\n",
              "array([[20, 59],\n",
              "       [34, 57],\n",
              "       [30, 60]], dtype=int32)>"
            ]
          },
          "metadata": {},
          "execution_count": 61
        }
      ]
    },
    {
      "cell_type": "code",
      "source": [
        "# Matrix mulitplication with Python operator '@'\n",
        "tensor_1 @ tensor_2"
      ],
      "metadata": {
        "colab": {
          "base_uri": "https://localhost:8080/"
        },
        "id": "vtDMxSX7JuIg",
        "outputId": "72bc61f2-adde-4650-c932-f868af2320a0"
      },
      "execution_count": null,
      "outputs": [
        {
          "output_type": "execute_result",
          "data": {
            "text/plain": [
              "<tf.Tensor: shape=(3, 2), dtype=int32, numpy=\n",
              "array([[20, 59],\n",
              "       [34, 57],\n",
              "       [30, 60]], dtype=int32)>"
            ]
          },
          "metadata": {},
          "execution_count": 62
        }
      ]
    },
    {
      "cell_type": "code",
      "source": [
        "tensor_1.shape, tensor_2.shape"
      ],
      "metadata": {
        "colab": {
          "base_uri": "https://localhost:8080/"
        },
        "id": "reqgOTCJKog_",
        "outputId": "e3dd161c-fb2e-4fc2-a197-f5c1fe75cb5e"
      },
      "execution_count": null,
      "outputs": [
        {
          "output_type": "execute_result",
          "data": {
            "text/plain": [
              "(TensorShape([3, 3]), TensorShape([3, 2]))"
            ]
          },
          "metadata": {},
          "execution_count": 63
        }
      ]
    },
    {
      "cell_type": "code",
      "source": [
        "# Create tensors of same shape (3, 2)\n",
        "X = tf.constant([[1, 2], [3, 4], [5, 6]])\n",
        "Y = tf.constant([[7, 8], [9, 10], [11, 12]])\n",
        "X.shape, Y.shape"
      ],
      "metadata": {
        "colab": {
          "base_uri": "https://localhost:8080/"
        },
        "id": "CKk5dKgkK-a3",
        "outputId": "1fd60135-b986-497a-c4a1-0df0b80d9802"
      },
      "execution_count": null,
      "outputs": [
        {
          "output_type": "execute_result",
          "data": {
            "text/plain": [
              "(TensorShape([3, 2]), TensorShape([3, 2]))"
            ]
          },
          "metadata": {},
          "execution_count": 4
        }
      ]
    },
    {
      "cell_type": "code",
      "source": [
        "# Try to matrix multiply tensors of same shape via Python\n",
        "X @ Y"
      ],
      "metadata": {
        "colab": {
          "base_uri": "https://localhost:8080/",
          "height": 345
        },
        "id": "axDUqOt1LjqI",
        "outputId": "60925090-38cd-4e03-e42f-5aad7fec5596"
      },
      "execution_count": null,
      "outputs": [
        {
          "output_type": "error",
          "ename": "InvalidArgumentError",
          "evalue": "ignored",
          "traceback": [
            "\u001b[0;31m---------------------------------------------------------------------------\u001b[0m",
            "\u001b[0;31mInvalidArgumentError\u001b[0m                      Traceback (most recent call last)",
            "\u001b[0;32m<ipython-input-65-488594398e59>\u001b[0m in \u001b[0;36m<module>\u001b[0;34m\u001b[0m\n\u001b[1;32m      1\u001b[0m \u001b[0;31m# Try to matrix multiply tensors of same shape via Python\u001b[0m\u001b[0;34m\u001b[0m\u001b[0;34m\u001b[0m\u001b[0;34m\u001b[0m\u001b[0m\n\u001b[0;32m----> 2\u001b[0;31m \u001b[0mX\u001b[0m \u001b[0;34m@\u001b[0m \u001b[0mY\u001b[0m\u001b[0;34m\u001b[0m\u001b[0;34m\u001b[0m\u001b[0m\n\u001b[0m",
            "\u001b[0;32m/usr/local/lib/python3.7/dist-packages/tensorflow/python/util/traceback_utils.py\u001b[0m in \u001b[0;36merror_handler\u001b[0;34m(*args, **kwargs)\u001b[0m\n\u001b[1;32m    151\u001b[0m     \u001b[0;32mexcept\u001b[0m \u001b[0mException\u001b[0m \u001b[0;32mas\u001b[0m \u001b[0me\u001b[0m\u001b[0;34m:\u001b[0m\u001b[0;34m\u001b[0m\u001b[0;34m\u001b[0m\u001b[0m\n\u001b[1;32m    152\u001b[0m       \u001b[0mfiltered_tb\u001b[0m \u001b[0;34m=\u001b[0m \u001b[0m_process_traceback_frames\u001b[0m\u001b[0;34m(\u001b[0m\u001b[0me\u001b[0m\u001b[0;34m.\u001b[0m\u001b[0m__traceback__\u001b[0m\u001b[0;34m)\u001b[0m\u001b[0;34m\u001b[0m\u001b[0;34m\u001b[0m\u001b[0m\n\u001b[0;32m--> 153\u001b[0;31m       \u001b[0;32mraise\u001b[0m \u001b[0me\u001b[0m\u001b[0;34m.\u001b[0m\u001b[0mwith_traceback\u001b[0m\u001b[0;34m(\u001b[0m\u001b[0mfiltered_tb\u001b[0m\u001b[0;34m)\u001b[0m \u001b[0;32mfrom\u001b[0m \u001b[0;32mNone\u001b[0m\u001b[0;34m\u001b[0m\u001b[0;34m\u001b[0m\u001b[0m\n\u001b[0m\u001b[1;32m    154\u001b[0m     \u001b[0;32mfinally\u001b[0m\u001b[0;34m:\u001b[0m\u001b[0;34m\u001b[0m\u001b[0;34m\u001b[0m\u001b[0m\n\u001b[1;32m    155\u001b[0m       \u001b[0;32mdel\u001b[0m \u001b[0mfiltered_tb\u001b[0m\u001b[0;34m\u001b[0m\u001b[0;34m\u001b[0m\u001b[0m\n",
            "\u001b[0;32m/usr/local/lib/python3.7/dist-packages/tensorflow/python/framework/ops.py\u001b[0m in \u001b[0;36mraise_from_not_ok_status\u001b[0;34m(e, name)\u001b[0m\n\u001b[1;32m   7184\u001b[0m \u001b[0;32mdef\u001b[0m \u001b[0mraise_from_not_ok_status\u001b[0m\u001b[0;34m(\u001b[0m\u001b[0me\u001b[0m\u001b[0;34m,\u001b[0m \u001b[0mname\u001b[0m\u001b[0;34m)\u001b[0m\u001b[0;34m:\u001b[0m\u001b[0;34m\u001b[0m\u001b[0;34m\u001b[0m\u001b[0m\n\u001b[1;32m   7185\u001b[0m   \u001b[0me\u001b[0m\u001b[0;34m.\u001b[0m\u001b[0mmessage\u001b[0m \u001b[0;34m+=\u001b[0m \u001b[0;34m(\u001b[0m\u001b[0;34m\" name: \"\u001b[0m \u001b[0;34m+\u001b[0m \u001b[0mname\u001b[0m \u001b[0;32mif\u001b[0m \u001b[0mname\u001b[0m \u001b[0;32mis\u001b[0m \u001b[0;32mnot\u001b[0m \u001b[0;32mNone\u001b[0m \u001b[0;32melse\u001b[0m \u001b[0;34m\"\"\u001b[0m\u001b[0;34m)\u001b[0m\u001b[0;34m\u001b[0m\u001b[0;34m\u001b[0m\u001b[0m\n\u001b[0;32m-> 7186\u001b[0;31m   \u001b[0;32mraise\u001b[0m \u001b[0mcore\u001b[0m\u001b[0;34m.\u001b[0m\u001b[0m_status_to_exception\u001b[0m\u001b[0;34m(\u001b[0m\u001b[0me\u001b[0m\u001b[0;34m)\u001b[0m \u001b[0;32mfrom\u001b[0m \u001b[0;32mNone\u001b[0m  \u001b[0;31m# pylint: disable=protected-access\u001b[0m\u001b[0;34m\u001b[0m\u001b[0;34m\u001b[0m\u001b[0m\n\u001b[0m\u001b[1;32m   7187\u001b[0m \u001b[0;34m\u001b[0m\u001b[0m\n\u001b[1;32m   7188\u001b[0m \u001b[0;34m\u001b[0m\u001b[0m\n",
            "\u001b[0;31mInvalidArgumentError\u001b[0m: Matrix size-incompatible: In[0]: [3,2], In[1]: [3,2] [Op:MatMul]"
          ]
        }
      ]
    },
    {
      "cell_type": "code",
      "source": [
        "# Try to matrix multiply tensors of same shape via tensorflow\n",
        "tf.matmul(X, Y)"
      ],
      "metadata": {
        "colab": {
          "base_uri": "https://localhost:8080/",
          "height": 345
        },
        "id": "6aHvFwWtL0Kw",
        "outputId": "0ec53a8f-466a-47d2-9362-60fd33824ea2"
      },
      "execution_count": null,
      "outputs": [
        {
          "output_type": "error",
          "ename": "InvalidArgumentError",
          "evalue": "ignored",
          "traceback": [
            "\u001b[0;31m---------------------------------------------------------------------------\u001b[0m",
            "\u001b[0;31mInvalidArgumentError\u001b[0m                      Traceback (most recent call last)",
            "\u001b[0;32m<ipython-input-66-6feb7d375a6e>\u001b[0m in \u001b[0;36m<module>\u001b[0;34m\u001b[0m\n\u001b[1;32m      1\u001b[0m \u001b[0;31m# Try to matrix multiply tensors of same shape via tensorflow\u001b[0m\u001b[0;34m\u001b[0m\u001b[0;34m\u001b[0m\u001b[0;34m\u001b[0m\u001b[0m\n\u001b[0;32m----> 2\u001b[0;31m \u001b[0mtf\u001b[0m\u001b[0;34m.\u001b[0m\u001b[0mmatmul\u001b[0m\u001b[0;34m(\u001b[0m\u001b[0mX\u001b[0m\u001b[0;34m,\u001b[0m \u001b[0mY\u001b[0m\u001b[0;34m)\u001b[0m\u001b[0;34m\u001b[0m\u001b[0;34m\u001b[0m\u001b[0m\n\u001b[0m",
            "\u001b[0;32m/usr/local/lib/python3.7/dist-packages/tensorflow/python/util/traceback_utils.py\u001b[0m in \u001b[0;36merror_handler\u001b[0;34m(*args, **kwargs)\u001b[0m\n\u001b[1;32m    151\u001b[0m     \u001b[0;32mexcept\u001b[0m \u001b[0mException\u001b[0m \u001b[0;32mas\u001b[0m \u001b[0me\u001b[0m\u001b[0;34m:\u001b[0m\u001b[0;34m\u001b[0m\u001b[0;34m\u001b[0m\u001b[0m\n\u001b[1;32m    152\u001b[0m       \u001b[0mfiltered_tb\u001b[0m \u001b[0;34m=\u001b[0m \u001b[0m_process_traceback_frames\u001b[0m\u001b[0;34m(\u001b[0m\u001b[0me\u001b[0m\u001b[0;34m.\u001b[0m\u001b[0m__traceback__\u001b[0m\u001b[0;34m)\u001b[0m\u001b[0;34m\u001b[0m\u001b[0;34m\u001b[0m\u001b[0m\n\u001b[0;32m--> 153\u001b[0;31m       \u001b[0;32mraise\u001b[0m \u001b[0me\u001b[0m\u001b[0;34m.\u001b[0m\u001b[0mwith_traceback\u001b[0m\u001b[0;34m(\u001b[0m\u001b[0mfiltered_tb\u001b[0m\u001b[0;34m)\u001b[0m \u001b[0;32mfrom\u001b[0m \u001b[0;32mNone\u001b[0m\u001b[0;34m\u001b[0m\u001b[0;34m\u001b[0m\u001b[0m\n\u001b[0m\u001b[1;32m    154\u001b[0m     \u001b[0;32mfinally\u001b[0m\u001b[0;34m:\u001b[0m\u001b[0;34m\u001b[0m\u001b[0;34m\u001b[0m\u001b[0m\n\u001b[1;32m    155\u001b[0m       \u001b[0;32mdel\u001b[0m \u001b[0mfiltered_tb\u001b[0m\u001b[0;34m\u001b[0m\u001b[0;34m\u001b[0m\u001b[0m\n",
            "\u001b[0;32m/usr/local/lib/python3.7/dist-packages/tensorflow/python/framework/ops.py\u001b[0m in \u001b[0;36mraise_from_not_ok_status\u001b[0;34m(e, name)\u001b[0m\n\u001b[1;32m   7184\u001b[0m \u001b[0;32mdef\u001b[0m \u001b[0mraise_from_not_ok_status\u001b[0m\u001b[0;34m(\u001b[0m\u001b[0me\u001b[0m\u001b[0;34m,\u001b[0m \u001b[0mname\u001b[0m\u001b[0;34m)\u001b[0m\u001b[0;34m:\u001b[0m\u001b[0;34m\u001b[0m\u001b[0;34m\u001b[0m\u001b[0m\n\u001b[1;32m   7185\u001b[0m   \u001b[0me\u001b[0m\u001b[0;34m.\u001b[0m\u001b[0mmessage\u001b[0m \u001b[0;34m+=\u001b[0m \u001b[0;34m(\u001b[0m\u001b[0;34m\" name: \"\u001b[0m \u001b[0;34m+\u001b[0m \u001b[0mname\u001b[0m \u001b[0;32mif\u001b[0m \u001b[0mname\u001b[0m \u001b[0;32mis\u001b[0m \u001b[0;32mnot\u001b[0m \u001b[0;32mNone\u001b[0m \u001b[0;32melse\u001b[0m \u001b[0;34m\"\"\u001b[0m\u001b[0;34m)\u001b[0m\u001b[0;34m\u001b[0m\u001b[0;34m\u001b[0m\u001b[0m\n\u001b[0;32m-> 7186\u001b[0;31m   \u001b[0;32mraise\u001b[0m \u001b[0mcore\u001b[0m\u001b[0;34m.\u001b[0m\u001b[0m_status_to_exception\u001b[0m\u001b[0;34m(\u001b[0m\u001b[0me\u001b[0m\u001b[0;34m)\u001b[0m \u001b[0;32mfrom\u001b[0m \u001b[0;32mNone\u001b[0m  \u001b[0;31m# pylint: disable=protected-access\u001b[0m\u001b[0;34m\u001b[0m\u001b[0;34m\u001b[0m\u001b[0m\n\u001b[0m\u001b[1;32m   7187\u001b[0m \u001b[0;34m\u001b[0m\u001b[0m\n\u001b[1;32m   7188\u001b[0m \u001b[0;34m\u001b[0m\u001b[0m\n",
            "\u001b[0;31mInvalidArgumentError\u001b[0m: Matrix size-incompatible: In[0]: [3,2], In[1]: [3,2] [Op:MatMul]"
          ]
        }
      ]
    },
    {
      "cell_type": "markdown",
      "source": [
        "📖 How to multiply matrices  https://www.mathsisfun.com/algebra/matrix-multiplying.html"
      ],
      "metadata": {
        "id": "bOTT1UJLMSGg"
      }
    },
    {
      "cell_type": "code",
      "source": [
        "# Reshape Y\n",
        "tf.reshape(Y, shape=(2, 3)), Y.shape"
      ],
      "metadata": {
        "id": "C4Al2otkNLPh",
        "colab": {
          "base_uri": "https://localhost:8080/"
        },
        "outputId": "5cc451c5-c655-4250-c8c0-e16fe5cdbec7"
      },
      "execution_count": null,
      "outputs": [
        {
          "output_type": "execute_result",
          "data": {
            "text/plain": [
              "(<tf.Tensor: shape=(2, 3), dtype=int32, numpy=\n",
              " array([[ 7,  8,  9],\n",
              "        [10, 11, 12]], dtype=int32)>, TensorShape([3, 2]))"
            ]
          },
          "metadata": {},
          "execution_count": 11
        }
      ]
    },
    {
      "cell_type": "code",
      "source": [
        "tf.matmul(X, tf.reshape(Y, shape=(2, 3)))"
      ],
      "metadata": {
        "colab": {
          "base_uri": "https://localhost:8080/"
        },
        "id": "AbLXAfQL9tE2",
        "outputId": "fdff7c07-f692-4347-da11-7283960dc83f"
      },
      "execution_count": null,
      "outputs": [
        {
          "output_type": "execute_result",
          "data": {
            "text/plain": [
              "<tf.Tensor: shape=(3, 3), dtype=int32, numpy=\n",
              "array([[ 27,  30,  33],\n",
              "       [ 61,  68,  75],\n",
              "       [ 95, 106, 117]], dtype=int32)>"
            ]
          },
          "metadata": {},
          "execution_count": 7
        }
      ]
    },
    {
      "cell_type": "code",
      "source": [
        "tf.matmul(tf.reshape(X, shape=(2, 3)), Y)"
      ],
      "metadata": {
        "colab": {
          "base_uri": "https://localhost:8080/"
        },
        "id": "6jYnoqXW91x9",
        "outputId": "ab6e7661-8a69-458f-9da4-ccf667412f83"
      },
      "execution_count": null,
      "outputs": [
        {
          "output_type": "execute_result",
          "data": {
            "text/plain": [
              "<tf.Tensor: shape=(2, 2), dtype=int32, numpy=\n",
              "array([[ 58,  64],\n",
              "       [139, 154]], dtype=int32)>"
            ]
          },
          "metadata": {},
          "execution_count": 8
        }
      ]
    },
    {
      "cell_type": "code",
      "source": [
        "# Difference between transpose and reshape\n",
        "X, tf.transpose(X), tf.reshape(X, shape=(2, 3))"
      ],
      "metadata": {
        "colab": {
          "base_uri": "https://localhost:8080/"
        },
        "id": "ZpAueiNt-TUV",
        "outputId": "602d4f64-7355-4ef7-887c-cfdcd479ec5a"
      },
      "execution_count": null,
      "outputs": [
        {
          "output_type": "execute_result",
          "data": {
            "text/plain": [
              "(<tf.Tensor: shape=(3, 2), dtype=int32, numpy=\n",
              " array([[1, 2],\n",
              "        [3, 4],\n",
              "        [5, 6]], dtype=int32)>, <tf.Tensor: shape=(2, 3), dtype=int32, numpy=\n",
              " array([[1, 3, 5],\n",
              "        [2, 4, 6]], dtype=int32)>, <tf.Tensor: shape=(2, 3), dtype=int32, numpy=\n",
              " array([[1, 2, 3],\n",
              "        [4, 5, 6]], dtype=int32)>)"
            ]
          },
          "metadata": {},
          "execution_count": 14
        }
      ]
    },
    {
      "cell_type": "code",
      "source": [
        "# Matrix Multiplication with transpose\n",
        "tf.matmul(tf.transpose(X), Y)"
      ],
      "metadata": {
        "colab": {
          "base_uri": "https://localhost:8080/"
        },
        "id": "GP9U6A9E-uzG",
        "outputId": "90b1d00b-8907-4429-95a0-f7a1ee335c9f"
      },
      "execution_count": null,
      "outputs": [
        {
          "output_type": "execute_result",
          "data": {
            "text/plain": [
              "<tf.Tensor: shape=(2, 2), dtype=int32, numpy=\n",
              "array([[ 89,  98],\n",
              "       [116, 128]], dtype=int32)>"
            ]
          },
          "metadata": {},
          "execution_count": 15
        }
      ]
    },
    {
      "cell_type": "code",
      "source": [
        "X, Y"
      ],
      "metadata": {
        "colab": {
          "base_uri": "https://localhost:8080/"
        },
        "id": "dcYRO0UhSA9w",
        "outputId": "338f0f0c-9a74-43c4-b6aa-228c78150967"
      },
      "execution_count": null,
      "outputs": [
        {
          "output_type": "execute_result",
          "data": {
            "text/plain": [
              "(<tf.Tensor: shape=(3, 2), dtype=int32, numpy=\n",
              " array([[1, 2],\n",
              "        [3, 4],\n",
              "        [5, 6]], dtype=int32)>, <tf.Tensor: shape=(3, 2), dtype=int32, numpy=\n",
              " array([[ 7,  8],\n",
              "        [ 9, 10],\n",
              "        [11, 12]], dtype=int32)>)"
            ]
          },
          "metadata": {},
          "execution_count": 5
        }
      ]
    },
    {
      "cell_type": "markdown",
      "source": [
        "**The dot product**\n",
        "\n",
        "You can perform matrix multiplication using:\n",
        "* `tf.matmul()`\n",
        "* `tf.tensordot()`\n",
        "* `@`\n"
      ],
      "metadata": {
        "id": "RKEVFiNzRI6x"
      }
    },
    {
      "cell_type": "code",
      "source": [
        "# Perform the dot product on X and Y (requires X or Y to be transposed)\n",
        "tf.tensordot(tf.transpose(X), Y, axes=1)"
      ],
      "metadata": {
        "colab": {
          "base_uri": "https://localhost:8080/"
        },
        "id": "g9CPZkoPRtWr",
        "outputId": "db13a077-917c-4a58-b3e2-e46be86fe367"
      },
      "execution_count": null,
      "outputs": [
        {
          "output_type": "execute_result",
          "data": {
            "text/plain": [
              "<tf.Tensor: shape=(2, 2), dtype=int32, numpy=\n",
              "array([[ 89,  98],\n",
              "       [116, 128]], dtype=int32)>"
            ]
          },
          "metadata": {},
          "execution_count": 6
        }
      ]
    },
    {
      "cell_type": "code",
      "source": [
        "# Perform matrix multiplication between X and Y (transposed)\n",
        "tf.matmul(X, tf.transpose(Y))"
      ],
      "metadata": {
        "colab": {
          "base_uri": "https://localhost:8080/"
        },
        "id": "-Dl60hMzSTpx",
        "outputId": "38730478-2eff-46ae-e2ad-d42fb8c05f9d"
      },
      "execution_count": null,
      "outputs": [
        {
          "output_type": "execute_result",
          "data": {
            "text/plain": [
              "<tf.Tensor: shape=(3, 3), dtype=int32, numpy=\n",
              "array([[ 23,  29,  35],\n",
              "       [ 53,  67,  81],\n",
              "       [ 83, 105, 127]], dtype=int32)>"
            ]
          },
          "metadata": {},
          "execution_count": 7
        }
      ]
    },
    {
      "cell_type": "code",
      "source": [
        "# Perform matrix multiplication between X and Y (reshaped)\n",
        "tf.matmul(X, tf.reshape(Y, shape=(2, 3)))"
      ],
      "metadata": {
        "colab": {
          "base_uri": "https://localhost:8080/"
        },
        "id": "9EJEH94ySqaK",
        "outputId": "e54d2aa4-0c0b-4d37-c20a-8e9971e72038"
      },
      "execution_count": null,
      "outputs": [
        {
          "output_type": "execute_result",
          "data": {
            "text/plain": [
              "<tf.Tensor: shape=(3, 3), dtype=int32, numpy=\n",
              "array([[ 27,  30,  33],\n",
              "       [ 61,  68,  75],\n",
              "       [ 95, 106, 117]], dtype=int32)>"
            ]
          },
          "metadata": {},
          "execution_count": 8
        }
      ]
    },
    {
      "cell_type": "code",
      "source": [
        "# Check the values of Y, reshaped Y, and transposed Y\n",
        "print(\"Normal Y: \")\n",
        "print(Y, \"\\n\")\n",
        "\n",
        "print(\"Y reshaped to shape=(2, 3): \")\n",
        "print(tf.reshape(Y, shape=(2, 3)), \"\\n\")\n",
        "\n",
        "print(\"Y transposed: \")\n",
        "print(tf.transpose(Y))"
      ],
      "metadata": {
        "colab": {
          "base_uri": "https://localhost:8080/"
        },
        "id": "SusJAqKJS_IS",
        "outputId": "fe7260f4-658b-4a3c-9b25-cf22a792c53f"
      },
      "execution_count": null,
      "outputs": [
        {
          "output_type": "stream",
          "name": "stdout",
          "text": [
            "Normal Y: \n",
            "tf.Tensor(\n",
            "[[ 7  8]\n",
            " [ 9 10]\n",
            " [11 12]], shape=(3, 2), dtype=int32) \n",
            "\n",
            "Y reshaped to shape=(2, 3): \n",
            "tf.Tensor(\n",
            "[[ 7  8  9]\n",
            " [10 11 12]], shape=(2, 3), dtype=int32) \n",
            "\n",
            "Y transposed: \n",
            "tf.Tensor(\n",
            "[[ 7  9 11]\n",
            " [ 8 10 12]], shape=(2, 3), dtype=int32)\n"
          ]
        }
      ]
    },
    {
      "cell_type": "code",
      "source": [
        "tf.matmul(X, tf.transpose(Y))"
      ],
      "metadata": {
        "colab": {
          "base_uri": "https://localhost:8080/"
        },
        "id": "ffsy6iw7UIlJ",
        "outputId": "451af263-8c97-40cc-84d1-32c40246c63d"
      },
      "execution_count": null,
      "outputs": [
        {
          "output_type": "execute_result",
          "data": {
            "text/plain": [
              "<tf.Tensor: shape=(3, 3), dtype=int32, numpy=\n",
              "array([[ 23,  29,  35],\n",
              "       [ 53,  67,  81],\n",
              "       [ 83, 105, 127]], dtype=int32)>"
            ]
          },
          "metadata": {},
          "execution_count": 11
        }
      ]
    },
    {
      "cell_type": "markdown",
      "source": [
        "### Changing the datatype of a tensor"
      ],
      "metadata": {
        "id": "ctNU_YSJUnjJ"
      }
    },
    {
      "cell_type": "code",
      "source": [
        "# Create a tensor with default datatype (float32)\n",
        "B = tf.constant([1.3, 4.5])\n",
        "B.dtype"
      ],
      "metadata": {
        "id": "rpnERDAyUrww",
        "colab": {
          "base_uri": "https://localhost:8080/"
        },
        "outputId": "3d8d0753-ee78-4244-9c0e-382ee93ea19a"
      },
      "execution_count": 3,
      "outputs": [
        {
          "output_type": "execute_result",
          "data": {
            "text/plain": [
              "tf.float32"
            ]
          },
          "metadata": {},
          "execution_count": 3
        }
      ]
    },
    {
      "cell_type": "code",
      "source": [
        "# Create a tensor with int32 datatype\n",
        "C = tf.constant([1, 2])\n",
        "C.dtype"
      ],
      "metadata": {
        "colab": {
          "base_uri": "https://localhost:8080/"
        },
        "id": "PRMce2sp7ilU",
        "outputId": "6642a019-e746-4e97-ac63-1217c2ebb6d5"
      },
      "execution_count": 4,
      "outputs": [
        {
          "output_type": "execute_result",
          "data": {
            "text/plain": [
              "tf.int32"
            ]
          },
          "metadata": {},
          "execution_count": 4
        }
      ]
    },
    {
      "cell_type": "code",
      "source": [
        "# Change datatype from float32 to float16 (reduced precision)\n",
        "D = tf.cast(B, dtype=tf.float16)\n",
        "D, D.dtype"
      ],
      "metadata": {
        "colab": {
          "base_uri": "https://localhost:8080/"
        },
        "id": "dwIU37Bc71XT",
        "outputId": "6ceab39b-3fc3-418b-ad8c-421337917334"
      },
      "execution_count": 5,
      "outputs": [
        {
          "output_type": "execute_result",
          "data": {
            "text/plain": [
              "(<tf.Tensor: shape=(2,), dtype=float16, numpy=array([1.3, 4.5], dtype=float16)>,\n",
              " tf.float16)"
            ]
          },
          "metadata": {},
          "execution_count": 5
        }
      ]
    },
    {
      "cell_type": "code",
      "source": [
        "# Change from int32 to float32\n",
        "E = tf.cast(C, dtype=tf.float32)\n",
        "E"
      ],
      "metadata": {
        "colab": {
          "base_uri": "https://localhost:8080/"
        },
        "id": "6pzzb63l8Qpc",
        "outputId": "5b7ba928-2541-444b-bac2-616025339420"
      },
      "execution_count": 6,
      "outputs": [
        {
          "output_type": "execute_result",
          "data": {
            "text/plain": [
              "<tf.Tensor: shape=(2,), dtype=float32, numpy=array([1., 2.], dtype=float32)>"
            ]
          },
          "metadata": {},
          "execution_count": 6
        }
      ]
    },
    {
      "cell_type": "code",
      "source": [
        "E_float16 = tf.cast(E, dtype=tf.float16)\n",
        "E, E.dtype"
      ],
      "metadata": {
        "colab": {
          "base_uri": "https://localhost:8080/"
        },
        "id": "tRxlUpqu8jZs",
        "outputId": "c3382966-c160-4fe6-88be-5418a2c83b3e"
      },
      "execution_count": 7,
      "outputs": [
        {
          "output_type": "execute_result",
          "data": {
            "text/plain": [
              "(<tf.Tensor: shape=(2,), dtype=float32, numpy=array([1., 2.], dtype=float32)>,\n",
              " tf.float32)"
            ]
          },
          "metadata": {},
          "execution_count": 7
        }
      ]
    },
    {
      "cell_type": "code",
      "source": [
        "# Change from float16 to int32\n",
        "D_int32 = tf.cast(D, dtype=tf.int32)\n",
        "D_int32, D_int32.dtype"
      ],
      "metadata": {
        "colab": {
          "base_uri": "https://localhost:8080/"
        },
        "id": "Fp2z2S799Cl0",
        "outputId": "fd403e4e-ef86-4ef6-e9db-27dee65acb81"
      },
      "execution_count": 9,
      "outputs": [
        {
          "output_type": "execute_result",
          "data": {
            "text/plain": [
              "(<tf.Tensor: shape=(2,), dtype=int32, numpy=array([1, 4], dtype=int32)>,\n",
              " tf.int32)"
            ]
          },
          "metadata": {},
          "execution_count": 9
        }
      ]
    },
    {
      "cell_type": "code",
      "source": [
        "# Change from float16 to int16\n",
        "D_int16 = tf.cast(D, dtype=tf.int16)\n",
        "D_int16, D_int16.dtype"
      ],
      "metadata": {
        "colab": {
          "base_uri": "https://localhost:8080/"
        },
        "id": "ME9yCky_9itz",
        "outputId": "eb6b902b-8983-48e4-ae90-f7f1726373fc"
      },
      "execution_count": 11,
      "outputs": [
        {
          "output_type": "execute_result",
          "data": {
            "text/plain": [
              "(<tf.Tensor: shape=(2,), dtype=int16, numpy=array([1, 4], dtype=int16)>,\n",
              " tf.int16)"
            ]
          },
          "metadata": {},
          "execution_count": 11
        }
      ]
    },
    {
      "cell_type": "markdown",
      "source": [
        "### Aggregating tensors\n",
        "\n",
        "— condensing from multiple values down to a smaller amount of values"
      ],
      "metadata": {
        "id": "A-dvrmwe-IRl"
      }
    },
    {
      "cell_type": "code",
      "source": [
        "# Get the absolute values\n",
        "D = tf.constant([-1, -2])\n",
        "D, tf.abs(D)"
      ],
      "metadata": {
        "colab": {
          "base_uri": "https://localhost:8080/"
        },
        "id": "E0Ds2WFI-O2z",
        "outputId": "74cdee7c-9c8a-4825-d4c9-a42258ca0193"
      },
      "execution_count": 13,
      "outputs": [
        {
          "output_type": "execute_result",
          "data": {
            "text/plain": [
              "(<tf.Tensor: shape=(2,), dtype=int32, numpy=array([-1, -2], dtype=int32)>,\n",
              " <tf.Tensor: shape=(2,), dtype=int32, numpy=array([1, 2], dtype=int32)>)"
            ]
          },
          "metadata": {},
          "execution_count": 13
        }
      ]
    },
    {
      "cell_type": "markdown",
      "source": [
        "Forms of aggregation:\n",
        "* Get the minimum\n",
        "* Get the maximum\n",
        "* Get the mean of a tensor\n",
        "* Get the sum of a tensor"
      ],
      "metadata": {
        "id": "gHR0mSgTADvE"
      }
    },
    {
      "cell_type": "code",
      "source": [
        "# Mean & Sum\n",
        "array_1 = np.random.randint(0, 100, size=(2, 2, 3))\n",
        "tensor = tf.constant(array_1)\n",
        "\n",
        "sum = tf.math.reduce_sum(tensor)\n",
        "mean = tf.math.reduce_mean(tensor)\n",
        "\n",
        "print(\"tensor: \", tensor)\n",
        "print(\"Sum: \", sum)\n",
        "print(\"Mean: \", mean)"
      ],
      "metadata": {
        "colab": {
          "base_uri": "https://localhost:8080/"
        },
        "id": "VkpXUfl1AWer",
        "outputId": "91ef2062-c9e3-473c-a090-115ce0926b63"
      },
      "execution_count": 24,
      "outputs": [
        {
          "output_type": "stream",
          "name": "stdout",
          "text": [
            "tensor:  tf.Tensor(\n",
            "[[[39 39 38]\n",
            "  [50 32 98]]\n",
            "\n",
            " [[63 23 42]\n",
            "  [15 84 86]]], shape=(2, 2, 3), dtype=int64)\n",
            "Sum:  tf.Tensor(609, shape=(), dtype=int64)\n",
            "Mean:  tf.Tensor(50, shape=(), dtype=int64)\n"
          ]
        }
      ]
    },
    {
      "cell_type": "code",
      "source": [
        "# Min & Max\n",
        "min = tf.math.reduce_min(tensor)\n",
        "max = tf.math.reduce_max(tensor)\n",
        "\n",
        "print(\"tensor: \", tensor)\n",
        "print(\"min: \", min)\n",
        "print(\"max: \", max)"
      ],
      "metadata": {
        "colab": {
          "base_uri": "https://localhost:8080/"
        },
        "id": "dQT43TU5CNR-",
        "outputId": "c10de3bd-90ad-450d-ee1b-50fe0a62bd14"
      },
      "execution_count": 25,
      "outputs": [
        {
          "output_type": "stream",
          "name": "stdout",
          "text": [
            "tensor:  tf.Tensor(\n",
            "[[[39 39 38]\n",
            "  [50 32 98]]\n",
            "\n",
            " [[63 23 42]\n",
            "  [15 84 86]]], shape=(2, 2, 3), dtype=int64)\n",
            "min:  tf.Tensor(15, shape=(), dtype=int64)\n",
            "max:  tf.Tensor(98, shape=(), dtype=int64)\n"
          ]
        }
      ]
    },
    {
      "cell_type": "markdown",
      "source": [
        "⚒ **Exercise:** Find the variance and standard deviation of tensor using Tensorflow methods"
      ],
      "metadata": {
        "id": "ER4shKW-Exrs"
      }
    },
    {
      "cell_type": "markdown",
      "source": [
        "📖 [Standard Deviation and Variance](https://www.mathsisfun.com/data/standard-deviation.html) "
      ],
      "metadata": {
        "id": "PszeCj0_GBaU"
      }
    },
    {
      "cell_type": "code",
      "source": [
        "# variance\n",
        "E = tf.cast(tensor, dtype=tf.float32)\n",
        "variance = tf.math.reduce_variance(E)\n",
        "\n",
        "print(\"tensor: \", E)\n",
        "print(\"variance: \", variance)"
      ],
      "metadata": {
        "colab": {
          "base_uri": "https://localhost:8080/"
        },
        "id": "vAH0dVh6FMhT",
        "outputId": "1b589195-4431-4a92-9c8a-871ab31024e2"
      },
      "execution_count": 27,
      "outputs": [
        {
          "output_type": "stream",
          "name": "stdout",
          "text": [
            "tensor:  tf.Tensor(\n",
            "[[[39. 39. 38.]\n",
            "  [50. 32. 98.]]\n",
            "\n",
            " [[63. 23. 42.]\n",
            "  [15. 84. 86.]]], shape=(2, 2, 3), dtype=float32)\n",
            "variance:  tf.Tensor(637.1875, shape=(), dtype=float32)\n"
          ]
        }
      ]
    },
    {
      "cell_type": "code",
      "source": [
        "variance_axis_0 = tf.math.reduce_variance(E, 0)\n",
        "print(\"tensor E: \", E)\n",
        "print(\"variance_axis_0: \", variance_axis_0)"
      ],
      "metadata": {
        "colab": {
          "base_uri": "https://localhost:8080/"
        },
        "id": "9lWrA7hxIM1D",
        "outputId": "13e654ce-8a81-4eca-edd8-a9c4ef2def28"
      },
      "execution_count": 40,
      "outputs": [
        {
          "output_type": "stream",
          "name": "stdout",
          "text": [
            "tensor E:  tf.Tensor(\n",
            "[[[39. 39. 38.]\n",
            "  [50. 32. 98.]]\n",
            "\n",
            " [[63. 23. 42.]\n",
            "  [15. 84. 86.]]], shape=(2, 2, 3), dtype=float32)\n",
            "variance_axis_0:  tf.Tensor(\n",
            "[[144.    64.     4.  ]\n",
            " [306.25 676.    36.  ]], shape=(2, 3), dtype=float32)\n"
          ]
        }
      ]
    },
    {
      "cell_type": "code",
      "source": [
        "variance_axis_1 = tf.math.reduce_variance(E, 1)\n",
        "print(\"tensor E: \", E)\n",
        "print(\"variance_axis_0: \", variance_axis_1)"
      ],
      "metadata": {
        "colab": {
          "base_uri": "https://localhost:8080/"
        },
        "id": "5SKDEjUcJj9U",
        "outputId": "764193b6-83b6-4a5c-995c-9e4edd974f14"
      },
      "execution_count": 41,
      "outputs": [
        {
          "output_type": "stream",
          "name": "stdout",
          "text": [
            "tensor E:  tf.Tensor(\n",
            "[[[39. 39. 38.]\n",
            "  [50. 32. 98.]]\n",
            "\n",
            " [[63. 23. 42.]\n",
            "  [15. 84. 86.]]], shape=(2, 2, 3), dtype=float32)\n",
            "variance_axis_0:  tf.Tensor(\n",
            "[[ 30.25  12.25 900.  ]\n",
            " [576.   930.25 484.  ]], shape=(2, 3), dtype=float32)\n"
          ]
        }
      ]
    },
    {
      "cell_type": "code",
      "source": [
        "E.ndim"
      ],
      "metadata": {
        "colab": {
          "base_uri": "https://localhost:8080/"
        },
        "id": "LJiwHOjsJqZD",
        "outputId": "0350f26f-7b98-47f6-e3f3-9abe9d8b927a"
      },
      "execution_count": 36,
      "outputs": [
        {
          "output_type": "execute_result",
          "data": {
            "text/plain": [
              "3"
            ]
          },
          "metadata": {},
          "execution_count": 36
        }
      ]
    },
    {
      "cell_type": "code",
      "source": [
        "variance_axis_2 = tf.math.reduce_variance(E, 2)\n",
        "print(\"tensor E: \", E)\n",
        "print(\"variance_axis_2: \", variance_axis_2)"
      ],
      "metadata": {
        "colab": {
          "base_uri": "https://localhost:8080/"
        },
        "id": "7Tne51UqKkvj",
        "outputId": "40b4310d-6de7-4227-ec23-866040d958b2"
      },
      "execution_count": 42,
      "outputs": [
        {
          "output_type": "stream",
          "name": "stdout",
          "text": [
            "tensor E:  tf.Tensor(\n",
            "[[[39. 39. 38.]\n",
            "  [50. 32. 98.]]\n",
            "\n",
            " [[63. 23. 42.]\n",
            "  [15. 84. 86.]]], shape=(2, 2, 3), dtype=float32)\n",
            "variance_axis_2L  tf.Tensor(\n",
            "[[2.2222222e-01 7.7600000e+02]\n",
            " [2.6688889e+02 1.0895555e+03]], shape=(2, 2), dtype=float32)\n"
          ]
        }
      ]
    },
    {
      "cell_type": "code",
      "source": [
        "# Deliberate error\n",
        "variance_axis_3 = tf.math.reduce_variance(E, 3)\n",
        "print(\"tensor E: \", E)\n",
        "print(\"variance_axis_3: \", variance_axis_3)"
      ],
      "metadata": {
        "colab": {
          "base_uri": "https://localhost:8080/",
          "height": 380
        },
        "id": "dnvbKkGZLQEK",
        "outputId": "03d086f7-fd0d-4fa0-8d6e-2168d56bfb1e"
      },
      "execution_count": 43,
      "outputs": [
        {
          "output_type": "error",
          "ename": "InvalidArgumentError",
          "evalue": "ignored",
          "traceback": [
            "\u001b[0;31m---------------------------------------------------------------------------\u001b[0m",
            "\u001b[0;31mInvalidArgumentError\u001b[0m                      Traceback (most recent call last)",
            "\u001b[0;32m<ipython-input-43-639282efd655>\u001b[0m in \u001b[0;36m<module>\u001b[0;34m\u001b[0m\n\u001b[1;32m      1\u001b[0m \u001b[0;31m# Deliberate error\u001b[0m\u001b[0;34m\u001b[0m\u001b[0;34m\u001b[0m\u001b[0;34m\u001b[0m\u001b[0m\n\u001b[0;32m----> 2\u001b[0;31m \u001b[0mvariance_axis_3\u001b[0m \u001b[0;34m=\u001b[0m \u001b[0mtf\u001b[0m\u001b[0;34m.\u001b[0m\u001b[0mmath\u001b[0m\u001b[0;34m.\u001b[0m\u001b[0mreduce_variance\u001b[0m\u001b[0;34m(\u001b[0m\u001b[0mE\u001b[0m\u001b[0;34m,\u001b[0m \u001b[0;36m3\u001b[0m\u001b[0;34m)\u001b[0m\u001b[0;34m\u001b[0m\u001b[0;34m\u001b[0m\u001b[0m\n\u001b[0m\u001b[1;32m      3\u001b[0m \u001b[0mprint\u001b[0m\u001b[0;34m(\u001b[0m\u001b[0;34m\"tensor E: \"\u001b[0m\u001b[0;34m,\u001b[0m \u001b[0mE\u001b[0m\u001b[0;34m)\u001b[0m\u001b[0;34m\u001b[0m\u001b[0;34m\u001b[0m\u001b[0m\n\u001b[1;32m      4\u001b[0m \u001b[0mprint\u001b[0m\u001b[0;34m(\u001b[0m\u001b[0;34m\"variance_axis_3: \"\u001b[0m\u001b[0;34m,\u001b[0m \u001b[0mvariance_axis_3\u001b[0m\u001b[0;34m)\u001b[0m\u001b[0;34m\u001b[0m\u001b[0;34m\u001b[0m\u001b[0m\n",
            "\u001b[0;32m/usr/local/lib/python3.7/dist-packages/tensorflow/python/util/traceback_utils.py\u001b[0m in \u001b[0;36merror_handler\u001b[0;34m(*args, **kwargs)\u001b[0m\n\u001b[1;32m    151\u001b[0m     \u001b[0;32mexcept\u001b[0m \u001b[0mException\u001b[0m \u001b[0;32mas\u001b[0m \u001b[0me\u001b[0m\u001b[0;34m:\u001b[0m\u001b[0;34m\u001b[0m\u001b[0;34m\u001b[0m\u001b[0m\n\u001b[1;32m    152\u001b[0m       \u001b[0mfiltered_tb\u001b[0m \u001b[0;34m=\u001b[0m \u001b[0m_process_traceback_frames\u001b[0m\u001b[0;34m(\u001b[0m\u001b[0me\u001b[0m\u001b[0;34m.\u001b[0m\u001b[0m__traceback__\u001b[0m\u001b[0;34m)\u001b[0m\u001b[0;34m\u001b[0m\u001b[0;34m\u001b[0m\u001b[0m\n\u001b[0;32m--> 153\u001b[0;31m       \u001b[0;32mraise\u001b[0m \u001b[0me\u001b[0m\u001b[0;34m.\u001b[0m\u001b[0mwith_traceback\u001b[0m\u001b[0;34m(\u001b[0m\u001b[0mfiltered_tb\u001b[0m\u001b[0;34m)\u001b[0m \u001b[0;32mfrom\u001b[0m \u001b[0;32mNone\u001b[0m\u001b[0;34m\u001b[0m\u001b[0;34m\u001b[0m\u001b[0m\n\u001b[0m\u001b[1;32m    154\u001b[0m     \u001b[0;32mfinally\u001b[0m\u001b[0;34m:\u001b[0m\u001b[0;34m\u001b[0m\u001b[0;34m\u001b[0m\u001b[0m\n\u001b[1;32m    155\u001b[0m       \u001b[0;32mdel\u001b[0m \u001b[0mfiltered_tb\u001b[0m\u001b[0;34m\u001b[0m\u001b[0;34m\u001b[0m\u001b[0m\n",
            "\u001b[0;32m/usr/local/lib/python3.7/dist-packages/tensorflow/python/framework/ops.py\u001b[0m in \u001b[0;36mraise_from_not_ok_status\u001b[0;34m(e, name)\u001b[0m\n\u001b[1;32m   7184\u001b[0m \u001b[0;32mdef\u001b[0m \u001b[0mraise_from_not_ok_status\u001b[0m\u001b[0;34m(\u001b[0m\u001b[0me\u001b[0m\u001b[0;34m,\u001b[0m \u001b[0mname\u001b[0m\u001b[0;34m)\u001b[0m\u001b[0;34m:\u001b[0m\u001b[0;34m\u001b[0m\u001b[0;34m\u001b[0m\u001b[0m\n\u001b[1;32m   7185\u001b[0m   \u001b[0me\u001b[0m\u001b[0;34m.\u001b[0m\u001b[0mmessage\u001b[0m \u001b[0;34m+=\u001b[0m \u001b[0;34m(\u001b[0m\u001b[0;34m\" name: \"\u001b[0m \u001b[0;34m+\u001b[0m \u001b[0mname\u001b[0m \u001b[0;32mif\u001b[0m \u001b[0mname\u001b[0m \u001b[0;32mis\u001b[0m \u001b[0;32mnot\u001b[0m \u001b[0;32mNone\u001b[0m \u001b[0;32melse\u001b[0m \u001b[0;34m\"\"\u001b[0m\u001b[0;34m)\u001b[0m\u001b[0;34m\u001b[0m\u001b[0;34m\u001b[0m\u001b[0m\n\u001b[0;32m-> 7186\u001b[0;31m   \u001b[0;32mraise\u001b[0m \u001b[0mcore\u001b[0m\u001b[0;34m.\u001b[0m\u001b[0m_status_to_exception\u001b[0m\u001b[0;34m(\u001b[0m\u001b[0me\u001b[0m\u001b[0;34m)\u001b[0m \u001b[0;32mfrom\u001b[0m \u001b[0;32mNone\u001b[0m  \u001b[0;31m# pylint: disable=protected-access\u001b[0m\u001b[0;34m\u001b[0m\u001b[0;34m\u001b[0m\u001b[0m\n\u001b[0m\u001b[1;32m   7187\u001b[0m \u001b[0;34m\u001b[0m\u001b[0m\n\u001b[1;32m   7188\u001b[0m \u001b[0;34m\u001b[0m\u001b[0m\n",
            "\u001b[0;31mInvalidArgumentError\u001b[0m: Invalid reduction dimension (3 for input with 3 dimension(s) [Op:Mean]"
          ]
        }
      ]
    },
    {
      "cell_type": "code",
      "source": [
        "# standard deviation\n",
        "std = tf.math.reduce_std(E)\n",
        "\n",
        "print(\"tensor E: \", E)\n",
        "print(\"\\nstd: \", std)"
      ],
      "metadata": {
        "colab": {
          "base_uri": "https://localhost:8080/"
        },
        "id": "gByHHw42L29T",
        "outputId": "eeffda78-fbca-4309-e0ca-ee9d068aa61f"
      },
      "execution_count": 49,
      "outputs": [
        {
          "output_type": "stream",
          "name": "stdout",
          "text": [
            "tensor E:  tf.Tensor(\n",
            "[[[39. 39. 38.]\n",
            "  [50. 32. 98.]]\n",
            "\n",
            " [[63. 23. 42.]\n",
            "  [15. 84. 86.]]], shape=(2, 2, 3), dtype=float32)\n",
            "\n",
            "std:  tf.Tensor(25.242573, shape=(), dtype=float32)\n"
          ]
        }
      ]
    },
    {
      "cell_type": "code",
      "source": [
        "std_axis_0 = tf.math.reduce_std(E, 0)\n",
        "\n",
        "print(\"tensor E: \", E)\n",
        "print(\"\\nstd_axis_0: \", std_axis_0)"
      ],
      "metadata": {
        "colab": {
          "base_uri": "https://localhost:8080/"
        },
        "id": "fO5n_JdhMguj",
        "outputId": "883aaeea-ce95-4752-f422-1c60486045bf"
      },
      "execution_count": 48,
      "outputs": [
        {
          "output_type": "stream",
          "name": "stdout",
          "text": [
            "tensor E:  tf.Tensor(\n",
            "[[[39. 39. 38.]\n",
            "  [50. 32. 98.]]\n",
            "\n",
            " [[63. 23. 42.]\n",
            "  [15. 84. 86.]]], shape=(2, 2, 3), dtype=float32)\n",
            "\n",
            "std_axis_0:  tf.Tensor(\n",
            "[[12.   8.   2. ]\n",
            " [17.5 26.   6. ]], shape=(2, 3), dtype=float32)\n"
          ]
        }
      ]
    },
    {
      "cell_type": "code",
      "source": [
        "std_axis_1 = tf.math.reduce_std(E, 1)\n",
        "\n",
        "print(\"tensor E: \", E)\n",
        "print(\"\\nstd_axis_0: \", std_axis_1)"
      ],
      "metadata": {
        "colab": {
          "base_uri": "https://localhost:8080/"
        },
        "id": "nVicdGG2M1nU",
        "outputId": "99ded88f-2767-4473-b313-a09423b09ea7"
      },
      "execution_count": 50,
      "outputs": [
        {
          "output_type": "stream",
          "name": "stdout",
          "text": [
            "tensor E:  tf.Tensor(\n",
            "[[[39. 39. 38.]\n",
            "  [50. 32. 98.]]\n",
            "\n",
            " [[63. 23. 42.]\n",
            "  [15. 84. 86.]]], shape=(2, 2, 3), dtype=float32)\n",
            "\n",
            "std_axis_0:  tf.Tensor(\n",
            "[[ 5.5  3.5 30. ]\n",
            " [24.  30.5 22. ]], shape=(2, 3), dtype=float32)\n"
          ]
        }
      ]
    },
    {
      "cell_type": "code",
      "source": [
        "std_axis_2 = tf.math.reduce_std(E, 2)\n",
        "\n",
        "print(\"tensor E: \", E)\n",
        "print(\"\\nstd_axis_0: \", std_axis_2)"
      ],
      "metadata": {
        "colab": {
          "base_uri": "https://localhost:8080/"
        },
        "id": "QWLi1nAAM7tj",
        "outputId": "6b771c3a-ec80-4924-dca5-0109831ada45"
      },
      "execution_count": 51,
      "outputs": [
        {
          "output_type": "stream",
          "name": "stdout",
          "text": [
            "tensor E:  tf.Tensor(\n",
            "[[[39. 39. 38.]\n",
            "  [50. 32. 98.]]\n",
            "\n",
            " [[63. 23. 42.]\n",
            "  [15. 84. 86.]]], shape=(2, 2, 3), dtype=float32)\n",
            "\n",
            "std_axis_0:  tf.Tensor(\n",
            "[[ 0.47140452 27.856777  ]\n",
            " [16.336735   33.008415  ]], shape=(2, 2), dtype=float32)\n"
          ]
        }
      ]
    },
    {
      "cell_type": "code",
      "source": [
        "# Deliberate error\n",
        "std_axis_3 = tf.math.reduce_std(E, 3)\n",
        "\n",
        "print(\"tensor E: \", E)\n",
        "print(\"\\nstd_axis_0: \", std_axis_3)"
      ],
      "metadata": {
        "colab": {
          "base_uri": "https://localhost:8080/",
          "height": 380
        },
        "id": "at2x27iHNBFi",
        "outputId": "7c0635ce-ad02-48e3-b0cf-84041104e365"
      },
      "execution_count": 52,
      "outputs": [
        {
          "output_type": "error",
          "ename": "InvalidArgumentError",
          "evalue": "ignored",
          "traceback": [
            "\u001b[0;31m---------------------------------------------------------------------------\u001b[0m",
            "\u001b[0;31mInvalidArgumentError\u001b[0m                      Traceback (most recent call last)",
            "\u001b[0;32m<ipython-input-52-6455bd361f7c>\u001b[0m in \u001b[0;36m<module>\u001b[0;34m\u001b[0m\n\u001b[0;32m----> 1\u001b[0;31m \u001b[0mstd_axis_3\u001b[0m \u001b[0;34m=\u001b[0m \u001b[0mtf\u001b[0m\u001b[0;34m.\u001b[0m\u001b[0mmath\u001b[0m\u001b[0;34m.\u001b[0m\u001b[0mreduce_std\u001b[0m\u001b[0;34m(\u001b[0m\u001b[0mE\u001b[0m\u001b[0;34m,\u001b[0m \u001b[0;36m3\u001b[0m\u001b[0;34m)\u001b[0m\u001b[0;34m\u001b[0m\u001b[0;34m\u001b[0m\u001b[0m\n\u001b[0m\u001b[1;32m      2\u001b[0m \u001b[0;34m\u001b[0m\u001b[0m\n\u001b[1;32m      3\u001b[0m \u001b[0mprint\u001b[0m\u001b[0;34m(\u001b[0m\u001b[0;34m\"tensor E: \"\u001b[0m\u001b[0;34m,\u001b[0m \u001b[0mE\u001b[0m\u001b[0;34m)\u001b[0m\u001b[0;34m\u001b[0m\u001b[0;34m\u001b[0m\u001b[0m\n\u001b[1;32m      4\u001b[0m \u001b[0mprint\u001b[0m\u001b[0;34m(\u001b[0m\u001b[0;34m\"\\nstd_axis_0: \"\u001b[0m\u001b[0;34m,\u001b[0m \u001b[0mstd_axis_3\u001b[0m\u001b[0;34m)\u001b[0m\u001b[0;34m\u001b[0m\u001b[0;34m\u001b[0m\u001b[0m\n",
            "\u001b[0;32m/usr/local/lib/python3.7/dist-packages/tensorflow/python/util/traceback_utils.py\u001b[0m in \u001b[0;36merror_handler\u001b[0;34m(*args, **kwargs)\u001b[0m\n\u001b[1;32m    151\u001b[0m     \u001b[0;32mexcept\u001b[0m \u001b[0mException\u001b[0m \u001b[0;32mas\u001b[0m \u001b[0me\u001b[0m\u001b[0;34m:\u001b[0m\u001b[0;34m\u001b[0m\u001b[0;34m\u001b[0m\u001b[0m\n\u001b[1;32m    152\u001b[0m       \u001b[0mfiltered_tb\u001b[0m \u001b[0;34m=\u001b[0m \u001b[0m_process_traceback_frames\u001b[0m\u001b[0;34m(\u001b[0m\u001b[0me\u001b[0m\u001b[0;34m.\u001b[0m\u001b[0m__traceback__\u001b[0m\u001b[0;34m)\u001b[0m\u001b[0;34m\u001b[0m\u001b[0;34m\u001b[0m\u001b[0m\n\u001b[0;32m--> 153\u001b[0;31m       \u001b[0;32mraise\u001b[0m \u001b[0me\u001b[0m\u001b[0;34m.\u001b[0m\u001b[0mwith_traceback\u001b[0m\u001b[0;34m(\u001b[0m\u001b[0mfiltered_tb\u001b[0m\u001b[0;34m)\u001b[0m \u001b[0;32mfrom\u001b[0m \u001b[0;32mNone\u001b[0m\u001b[0;34m\u001b[0m\u001b[0;34m\u001b[0m\u001b[0m\n\u001b[0m\u001b[1;32m    154\u001b[0m     \u001b[0;32mfinally\u001b[0m\u001b[0;34m:\u001b[0m\u001b[0;34m\u001b[0m\u001b[0;34m\u001b[0m\u001b[0m\n\u001b[1;32m    155\u001b[0m       \u001b[0;32mdel\u001b[0m \u001b[0mfiltered_tb\u001b[0m\u001b[0;34m\u001b[0m\u001b[0;34m\u001b[0m\u001b[0m\n",
            "\u001b[0;32m/usr/local/lib/python3.7/dist-packages/tensorflow/python/framework/ops.py\u001b[0m in \u001b[0;36mraise_from_not_ok_status\u001b[0;34m(e, name)\u001b[0m\n\u001b[1;32m   7184\u001b[0m \u001b[0;32mdef\u001b[0m \u001b[0mraise_from_not_ok_status\u001b[0m\u001b[0;34m(\u001b[0m\u001b[0me\u001b[0m\u001b[0;34m,\u001b[0m \u001b[0mname\u001b[0m\u001b[0;34m)\u001b[0m\u001b[0;34m:\u001b[0m\u001b[0;34m\u001b[0m\u001b[0;34m\u001b[0m\u001b[0m\n\u001b[1;32m   7185\u001b[0m   \u001b[0me\u001b[0m\u001b[0;34m.\u001b[0m\u001b[0mmessage\u001b[0m \u001b[0;34m+=\u001b[0m \u001b[0;34m(\u001b[0m\u001b[0;34m\" name: \"\u001b[0m \u001b[0;34m+\u001b[0m \u001b[0mname\u001b[0m \u001b[0;32mif\u001b[0m \u001b[0mname\u001b[0m \u001b[0;32mis\u001b[0m \u001b[0;32mnot\u001b[0m \u001b[0;32mNone\u001b[0m \u001b[0;32melse\u001b[0m \u001b[0;34m\"\"\u001b[0m\u001b[0;34m)\u001b[0m\u001b[0;34m\u001b[0m\u001b[0;34m\u001b[0m\u001b[0m\n\u001b[0;32m-> 7186\u001b[0;31m   \u001b[0;32mraise\u001b[0m \u001b[0mcore\u001b[0m\u001b[0;34m.\u001b[0m\u001b[0m_status_to_exception\u001b[0m\u001b[0;34m(\u001b[0m\u001b[0me\u001b[0m\u001b[0;34m)\u001b[0m \u001b[0;32mfrom\u001b[0m \u001b[0;32mNone\u001b[0m  \u001b[0;31m# pylint: disable=protected-access\u001b[0m\u001b[0;34m\u001b[0m\u001b[0;34m\u001b[0m\u001b[0m\n\u001b[0m\u001b[1;32m   7187\u001b[0m \u001b[0;34m\u001b[0m\u001b[0m\n\u001b[1;32m   7188\u001b[0m \u001b[0;34m\u001b[0m\u001b[0m\n",
            "\u001b[0;31mInvalidArgumentError\u001b[0m: Invalid reduction dimension (3 for input with 3 dimension(s) [Op:Mean]"
          ]
        }
      ]
    },
    {
      "cell_type": "markdown",
      "source": [
        "### Find the positional maximum and minimum of a tensor (`tf.math.argmax` & `tf.math.argmin`)"
      ],
      "metadata": {
        "id": "Zxik4vMoNsZj"
      }
    },
    {
      "cell_type": "code",
      "source": [
        "# Create a new tensor\n",
        "tf.random.set_seed(42)\n",
        "F = tf.random.uniform(shape=[1000], dtype=tf.float16)\n",
        "F, F.shape, F.ndim"
      ],
      "metadata": {
        "colab": {
          "base_uri": "https://localhost:8080/"
        },
        "id": "kmGoS_KDO4OL",
        "outputId": "f9139815-39d1-4aba-82a2-64ec527fb94f"
      },
      "execution_count": 86,
      "outputs": [
        {
          "output_type": "execute_result",
          "data": {
            "text/plain": [
              "(<tf.Tensor: shape=(1000,), dtype=float16, numpy=\n",
              " array([0.0928  , 0.7275  , 0.8135  , 0.04102 , 0.746   , 0.836   ,\n",
              "        0.042   , 0.0654  , 0.0654  , 0.4287  , 0.699   , 0.375   ,\n",
              "        0.06934 , 0.7393  , 0.1953  , 0.207   , 0.5264  , 0.922   ,\n",
              "        0.1885  , 0.8975  , 0.4287  , 0.4766  , 0.1768  , 0.576   ,\n",
              "        0.9834  , 0.2979  , 0.8135  , 0.4463  , 0.623   , 0.573   ,\n",
              "        0.338   , 0.8125  , 0.208   , 0.7725  , 0.371   , 0.5244  ,\n",
              "        0.1357  , 0.4746  , 0.2998  , 0.2969  , 0.75    , 0.873   ,\n",
              "        0.798   , 0.8037  , 0.2734  , 0.07227 , 0.9434  , 0.542   ,\n",
              "        0.534   , 0.867   , 0.7383  , 0.2031  , 0.0664  , 0.2002  ,\n",
              "        0.87    , 0.7354  , 0.08887 , 0.10254 , 0.702   , 0.2598  ,\n",
              "        0.251   , 0.592   , 0.1621  , 0.8516  , 0.1523  , 0.675   ,\n",
              "        0.6904  , 0.991   , 0.1221  , 0.666   , 0.4932  , 0.208   ,\n",
              "        0.7646  , 0.006836, 0.1387  , 0.616   , 0.6016  , 0.165   ,\n",
              "        0.75    , 0.1279  , 0.1533  , 0.05664 , 0.9307  , 0.7627  ,\n",
              "        0.3555  , 0.573   , 0.9463  , 0.5293  , 0.5635  , 0.2637  ,\n",
              "        0.5283  , 0.62    , 0.9805  , 0.6416  , 0.9805  , 0.915   ,\n",
              "        0.0967  , 0.658   , 0.9766  , 0.2295  , 0.1895  , 0.9033  ,\n",
              "        0.2432  , 0.8193  , 0.08105 , 0.6494  , 0.669   , 0.2725  ,\n",
              "        0.3271  , 0.8955  , 0.4922  , 0.2803  , 0.1172  , 0.5947  ,\n",
              "        0.3125  , 0.8145  , 0.379   , 0.502   , 0.11816 , 0.3164  ,\n",
              "        0.3232  , 0.2764  , 0.3145  , 0.2148  , 0.11523 , 0.3018  ,\n",
              "        0.4229  , 0.2598  , 0.7383  , 0.292   , 0.965   , 0.718   ,\n",
              "        0.0957  , 0.832   , 0.5137  , 0.377   , 0.6064  , 0.6035  ,\n",
              "        0.03027 , 0.0586  , 0.08594 , 0.288   , 0.1406  , 0.375   ,\n",
              "        0.3467  , 0.842   , 0.591   , 0.663   , 0.373   , 0.2324  ,\n",
              "        0.88    , 0.0635  , 0.1348  , 0.752   , 0.2617  , 0.4307  ,\n",
              "        0.0957  , 0.4834  , 0.3818  , 0.2266  , 0.586   , 0.713   ,\n",
              "        0.752   , 0.3857  , 0.6133  , 0.083   , 0.3555  , 0.658   ,\n",
              "        0.4814  , 0.0762  , 0.7383  , 0.634   , 0.8516  , 0.2822  ,\n",
              "        0.707   , 0.2812  , 0.76    , 0.11426 , 0.04297 , 0.1396  ,\n",
              "        0.5596  , 0.5156  , 0.3672  , 0.7617  , 0.5605  , 0.01758 ,\n",
              "        0.6514  , 0.001953, 0.542   , 0.4902  , 0.8223  , 0.3896  ,\n",
              "        0.4014  , 0.4727  , 0.2041  , 0.1436  , 0.839   , 0.03516 ,\n",
              "        0.02246 , 0.871   , 0.3496  , 0.2344  , 0.6914  , 0.0371  ,\n",
              "        0.751   , 0.1133  , 0.9385  , 0.589   , 0.4932  , 0.8975  ,\n",
              "        0.1807  , 0.8574  , 0.7256  , 0.7656  , 0.677   , 0.503   ,\n",
              "        0.6543  , 0.4365  , 0.4043  , 0.2432  , 0.59    , 0.967   ,\n",
              "        0.4482  , 0.33    , 0.083   , 0.4707  , 0.3281  , 0.336   ,\n",
              "        0.546   , 0.4883  , 0.542   , 0.1611  , 0.07227 , 0.4766  ,\n",
              "        0.6807  , 0.1514  , 0.4883  , 0.2422  , 0.0781  , 0.9043  ,\n",
              "        0.1631  , 0.745   , 0.6387  , 0.1982  , 0.802   , 0.1709  ,\n",
              "        0.42    , 0.338   , 0.6533  , 0.03516 , 0.702   , 0.574   ,\n",
              "        0.753   , 0.538   , 0.08984 , 0.7646  , 0.9355  , 0.926   ,\n",
              "        0.705   , 0.09863 , 0.875   , 0.1895  , 0.9756  , 0.3398  ,\n",
              "        0.2432  , 0.9795  , 0.3135  , 0.5166  , 0.3945  , 0.67    ,\n",
              "        0.2607  , 0.8584  , 0.01758 , 0.786   , 0.1904  , 0.2754  ,\n",
              "        0.2715  , 0.716   , 0.7725  , 0.879   , 0.1484  , 0.4404  ,\n",
              "        0.8623  , 0.373   , 0.3672  , 0.3525  , 0.2002  , 0.1387  ,\n",
              "        0.4531  , 0.8145  , 0.7676  , 0.01758 , 0.8184  , 0.503   ,\n",
              "        0.745   , 0.1084  , 0.954   , 0.1455  , 0.624   , 0.02637 ,\n",
              "        0.3408  , 0.3252  , 0.03906 , 0.3164  , 0.3262  , 0.09375 ,\n",
              "        0.6514  , 0.11914 , 0.02832 , 0.3818  , 0.948   , 0.459   ,\n",
              "        0.5312  , 0.458   , 0.884   , 0.585   , 0.593   , 0.506   ,\n",
              "        0.5273  , 0.4277  , 0.95    , 0.1729  , 0.659   , 0.758   ,\n",
              "        0.9854  , 0.01855 , 0.5186  , 0.01172 , 0.5137  , 0.07324 ,\n",
              "        0.00879 , 0.6533  , 0.10254 , 0.802   , 0.916   , 0.4258  ,\n",
              "        0.0166  , 0.786   , 0.9873  , 0.2471  , 0.1094  , 0.758   ,\n",
              "        0.6826  , 0.4395  , 0.9434  , 0.03516 , 0.8203  , 0.3604  ,\n",
              "        0.3545  , 0.1299  , 0.743   , 0.8125  , 0.3916  , 0.8     ,\n",
              "        0.871   , 0.714   , 0.3916  , 0.911   , 0.74    , 0.497   ,\n",
              "        0.4434  , 0.4102  , 0.5117  , 0.2588  , 0.8057  , 0.5693  ,\n",
              "        0.9863  , 0.8027  , 0.747   , 0.3926  , 0.497   , 0.4014  ,\n",
              "        0.291   , 0.3066  , 0.9473  , 0.1406  , 0.9404  , 0.2422  ,\n",
              "        0.9746  , 0.4033  , 0.547   , 0.8477  , 0.331   , 0.2627  ,\n",
              "        0.536   , 0.5576  , 0.4092  , 0.1094  , 0.707   , 0.2402  ,\n",
              "        0.1162  , 0.1807  , 0.3525  , 0.6074  , 0.1328  , 0.1631  ,\n",
              "        0.6035  , 0.5967  , 0.923   , 0.88    , 0.8027  , 0.502   ,\n",
              "        0.4053  , 0.6064  , 0.4512  , 0.4775  , 0.9863  , 0.7627  ,\n",
              "        0.788   , 0.7295  , 0.586   , 0.658   , 0.2998  , 0.836   ,\n",
              "        0.714   , 0.11914 , 0.5537  , 0.3486  , 0.4297  , 0.823   ,\n",
              "        0.1797  , 0.1982  , 0.581   , 0.5225  , 0.3096  , 0.67    ,\n",
              "        0.012695, 0.2109  , 0.291   , 0.4756  , 0.00586 , 0.7637  ,\n",
              "        0.2686  , 0.9453  , 0.698   , 0.823   , 0.5537  , 0.1387  ,\n",
              "        0.4004  , 0.8877  , 0.254   , 0.545   , 0.673   , 0.714   ,\n",
              "        0.83    , 0.672   , 0.1123  , 0.782   , 0.876   , 0.789   ,\n",
              "        0.4082  , 0.991   , 0.6436  , 0.534   , 0.549   , 0.6855  ,\n",
              "        0.997   , 0.659   , 0.589   , 0.1416  , 0.3936  , 0.9893  ,\n",
              "        0.9863  , 0.6377  , 0.01953 , 0.667   , 0.839   , 0.7207  ,\n",
              "        0.745   , 0.502   , 0.9014  , 0.1436  , 0.8555  , 0.992   ,\n",
              "        0.718   , 0.2363  , 0.2627  , 0.667   , 0.294   , 0.6973  ,\n",
              "        0.909   , 0.6113  , 0.5225  , 0.1484  , 0.01758 , 0.8994  ,\n",
              "        0.534   , 0.4082  , 0.4072  , 0.7627  , 0.3281  , 0.4014  ,\n",
              "        0.1758  , 0.0381  , 0.6973  , 0.3076  , 0.635   , 0.842   ,\n",
              "        0.633   , 0.91    , 0.6855  , 0.295   , 0.6875  , 0.3818  ,\n",
              "        0.6797  , 0.10156 , 0.8223  , 0.3037  , 0.866   , 0.7256  ,\n",
              "        0.622   , 0.584   , 0.661   , 0.7217  , 0.2275  , 0.2178  ,\n",
              "        0.7236  , 0.3506  , 0.1299  , 0.2979  , 0.2686  , 0.843   ,\n",
              "        0.909   , 0.7305  , 0.8594  , 0.9707  , 0.673   , 0.8857  ,\n",
              "        0.03906 , 0.759   , 0.823   , 0.01758 , 0.2305  , 0.495   ,\n",
              "        0.2256  , 0.9443  , 0.6797  , 0.1123  , 0.2461  , 0.1328  ,\n",
              "        0.954   , 0.623   , 0.3125  , 0.333   , 0.3262  , 0.839   ,\n",
              "        0.716   , 0.617   , 0.5107  , 0.21    , 0.4258  , 0.716   ,\n",
              "        0.658   , 0.616   , 0.29    , 0.2363  , 0.02246 , 0.0957  ,\n",
              "        0.7695  , 0.1592  , 0.5225  , 0.1504  , 0.1436  , 0.6885  ,\n",
              "        0.3232  , 0.4092  , 0.415   , 0.8857  , 0.534   , 0.1943  ,\n",
              "        0.2422  , 0.629   , 0.7266  , 0.2109  , 0.0742  , 0.74    ,\n",
              "        0.659   , 0.5557  , 0.1943  , 0.0928  , 0.249   , 0.06934 ,\n",
              "        0.1318  , 0.01855 , 0.2393  , 0.838   , 0.02539 , 0.2129  ,\n",
              "        0.798   , 0.3252  , 0.51    , 0.536   , 0.922   , 0.6406  ,\n",
              "        0.6113  , 0.4795  , 0.9375  , 0.964   , 0.3955  , 0.747   ,\n",
              "        0.4727  , 0.1084  , 0.2158  , 0.02344 , 0.6494  , 0.05957 ,\n",
              "        0.3926  , 0.922   , 0.838   , 0.414   , 0.5244  , 0.8213  ,\n",
              "        0.573   , 0.415   , 0.6514  , 0.9707  , 0.03027 , 0.2461  ,\n",
              "        0.998   , 0.796   , 0.909   , 0.1699  , 0.87    , 0.1455  ,\n",
              "        0.2656  , 0.506   , 0.794   , 0.624   , 0.573   , 0.4219  ,\n",
              "        0.2656  , 0.1211  , 0.9053  , 0.10547 , 0.03418 , 0.842   ,\n",
              "        0.6895  , 0.828   , 0.4512  , 0.6514  , 0.0371  , 0.0381  ,\n",
              "        0.9453  , 0.754   , 0.8613  , 0.4277  , 0.4229  , 0.25    ,\n",
              "        0.459   , 0.628   , 0.0586  , 0.866   , 0.8555  , 0.589   ,\n",
              "        0.916   , 0.661   , 0.7266  , 0.1748  , 0.5625  , 0.1201  ,\n",
              "        0.4727  , 0.296   , 0.5654  , 0.797   , 0.4785  , 0.3428  ,\n",
              "        0.2314  , 0.7773  , 0.338   , 0.83    , 0.01172 , 0.872   ,\n",
              "        0.4336  , 0.252   , 0.9336  , 0.2354  , 0.667   , 0.785   ,\n",
              "        0.961   , 0.4707  , 0.0654  , 0.8623  , 0.2793  , 0.948   ,\n",
              "        0.633   , 0.3633  , 0.1504  , 0.9883  , 0.876   , 0.1572  ,\n",
              "        0.961   , 0.8027  , 0.579   , 0.8096  , 0.4775  , 0.958   ,\n",
              "        0.4092  , 0.2412  , 0.589   , 0.953   , 0.1416  , 0.2285  ,\n",
              "        0.333   , 0.2383  , 0.459   , 0.5596  , 0.3848  , 0.251   ,\n",
              "        0.631   , 0.6025  , 0.33    , 0.7373  , 0.4385  , 0.09863 ,\n",
              "        0.541   , 0.4893  , 0.8115  , 0.741   , 0.007812, 0.1631  ,\n",
              "        0.3018  , 0.579   , 0.9043  , 0.249   , 0.295   , 0.873   ,\n",
              "        0.2812  , 0.1328  , 0.4111  , 0.3965  , 0.4531  , 0.795   ,\n",
              "        0.675   , 0.3535  , 0.5205  , 0.4932  , 0.07227 , 0.92    ,\n",
              "        0.2578  , 0.5     , 0.4092  , 0.04688 , 0.4326  , 0.551   ,\n",
              "        0.9004  , 0.4385  , 0.788   , 0.585   , 0.7764  , 0.3555  ,\n",
              "        0.961   , 0.03223 , 0.7305  , 0.9463  , 0.4424  , 0.2861  ,\n",
              "        0.543   , 0.3047  , 0.501   , 0.8193  , 0.042   , 0.9395  ,\n",
              "        0.791   , 0.9443  , 0.5293  , 0.793   , 0.6445  , 0.8564  ,\n",
              "        0.5576  , 0.8584  , 0.2588  , 0.1846  , 0.02441 , 0.254   ,\n",
              "        0.8174  , 0.4922  , 0.798   , 0.8477  , 0.3389  , 0.875   ,\n",
              "        0.4775  , 0.206   , 0.6953  , 0.712   , 0.1357  , 0.7314  ,\n",
              "        0.576   , 0.04785 , 0.331   , 0.4443  , 0.7334  , 0.1885  ,\n",
              "        0.2764  , 0.377   , 0.992   , 0.1357  , 0.2314  , 0.7188  ,\n",
              "        0.6113  , 0.1514  , 0.951   , 0.8506  , 0.664   , 0.9775  ,\n",
              "        0.4424  , 0.663   , 0.9414  , 0.698   , 0.293   , 0.1377  ,\n",
              "        0.1758  , 0.8457  , 0.66    , 0.836   , 0.007812, 0.6104  ,\n",
              "        0.4883  , 0.84    , 0.3857  , 0.592   , 0.3027  , 0.1309  ,\n",
              "        0.994   , 0.792   , 0.4814  , 0.829   , 0.2217  , 0.10156 ,\n",
              "        0.4814  , 0.1387  , 0.04395 , 0.083   , 0.2266  , 0.8057  ,\n",
              "        0.541   , 0.4932  , 0.338   , 0.968   , 0.878   , 0.2285  ,\n",
              "        0.1123  , 0.7188  , 0.3877  , 0.02051 , 0.537   , 0.661   ,\n",
              "        0.251   , 0.9717  , 0.3486  , 0.2051  , 0.1436  , 0.3525  ,\n",
              "        0.55    , 0.1836  , 0.9443  , 0.546   , 0.626   , 0.715   ,\n",
              "        0.378   , 0.6377  , 0.2129  , 0.006836, 0.4258  , 0.2441  ,\n",
              "        0.0869  , 0.712   , 0.8115  , 0.8154  , 0.744   , 0.7207  ,\n",
              "        0.2012  , 0.801   , 0.8613  , 0.7725  , 0.0703  , 0.4707  ,\n",
              "        0.6465  , 0.4834  , 0.838   , 0.5176  , 0.4648  , 0.7295  ,\n",
              "        0.11426 , 0.373   , 0.2266  , 0.677   , 0.414   , 0.7227  ,\n",
              "        0.166   , 0.08984 , 0.2305  , 0.09863 , 0.6855  , 0.755   ,\n",
              "        0.03906 , 0.01367 , 0.961   , 0.6436  , 0.7715  , 0.535   ,\n",
              "        0.577   , 0.2783  , 0.3887  , 0.3408  , 0.4775  , 0.674   ,\n",
              "        0.834   , 0.01465 , 0.4111  , 0.1514  , 0.2656  , 0.03613 ,\n",
              "        0.6953  , 0.253   , 0.6797  , 0.04492 , 0.877   , 0.0781  ,\n",
              "        0.08984 , 0.7207  , 0.8438  , 0.698   , 0.4756  , 0.1914  ,\n",
              "        0.4062  , 0.9814  , 0.2227  , 0.255   , 0.573   , 0.705   ,\n",
              "        0.9717  , 0.1729  , 0.0762  , 0.8066  , 0.698   , 0.05664 ,\n",
              "        0.62    , 0.01855 , 0.624   , 0.6924  , 0.3447  , 0.331   ,\n",
              "        0.3652  , 0.1006  , 0.1855  , 0.5254  , 0.08203 , 0.2451  ,\n",
              "        0.2344  , 0.882   , 0.04785 , 0.629   , 0.1562  , 0.4111  ,\n",
              "        0.8887  , 0.575   , 0.4814  , 0.7686  , 0.6885  , 0.0332  ,\n",
              "        0.587   , 0.6855  , 0.759   , 0.8184  , 0.4424  , 0.377   ,\n",
              "        0.1875  , 0.9473  , 0.828   , 0.8447  , 0.9443  , 0.459   ,\n",
              "        0.963   , 0.0713  , 0.5312  , 0.96    , 0.7256  , 0.00293 ,\n",
              "        0.09766 , 0.4355  , 0.3486  , 0.5605  , 0.2568  , 0.4941  ,\n",
              "        0.9473  , 0.8545  , 0.414   , 0.2803  , 0.62    , 0.02246 ,\n",
              "        0.1074  , 0.413   , 0.4365  , 0.948   , 0.1309  , 0.2188  ,\n",
              "        0.0996  , 0.5264  , 0.5723  , 0.4727  ], dtype=float16)>,\n",
              " TensorShape([1000]),\n",
              " 1)"
            ]
          },
          "metadata": {},
          "execution_count": 86
        }
      ]
    },
    {
      "cell_type": "code",
      "source": [
        "# Argmax — returns the index with the largest value across axes of a tensor\n",
        "tf.argmax(F)"
      ],
      "metadata": {
        "colab": {
          "base_uri": "https://localhost:8080/"
        },
        "id": "7zdq1bKkRDBU",
        "outputId": "66d3395f-9d5f-4a0d-afdf-1f17f2f613c3"
      },
      "execution_count": 87,
      "outputs": [
        {
          "output_type": "execute_result",
          "data": {
            "text/plain": [
              "<tf.Tensor: shape=(), dtype=int64, numpy=618>"
            ]
          },
          "metadata": {},
          "execution_count": 87
        }
      ]
    },
    {
      "cell_type": "code",
      "source": [
        "# index the largest value position\n",
        "F[tf.argmax(F)]"
      ],
      "metadata": {
        "colab": {
          "base_uri": "https://localhost:8080/"
        },
        "id": "nMr5SvLxV38a",
        "outputId": "4ffe90c8-1a9e-48c0-c532-68e387c7932d"
      },
      "execution_count": 88,
      "outputs": [
        {
          "output_type": "execute_result",
          "data": {
            "text/plain": [
              "<tf.Tensor: shape=(), dtype=float16, numpy=0.998>"
            ]
          },
          "metadata": {},
          "execution_count": 88
        }
      ]
    },
    {
      "cell_type": "code",
      "source": [
        "# Argmin — returns the index with the smallest value across axes of a tensor\n",
        "tf.argmin(F)"
      ],
      "metadata": {
        "colab": {
          "base_uri": "https://localhost:8080/"
        },
        "id": "GP13bKhESG5D",
        "outputId": "3a4e9f5f-6c5d-403d-df1f-de87afe10083"
      },
      "execution_count": 89,
      "outputs": [
        {
          "output_type": "execute_result",
          "data": {
            "text/plain": [
              "<tf.Tensor: shape=(), dtype=int64, numpy=187>"
            ]
          },
          "metadata": {},
          "execution_count": 89
        }
      ]
    },
    {
      "cell_type": "code",
      "source": [
        "# index the smallest value position\n",
        "F[tf.argmin(F)]"
      ],
      "metadata": {
        "colab": {
          "base_uri": "https://localhost:8080/"
        },
        "id": "EmNRrQFtV6u5",
        "outputId": "2a62791c-6bd2-4345-e16f-f186f438b367"
      },
      "execution_count": 90,
      "outputs": [
        {
          "output_type": "execute_result",
          "data": {
            "text/plain": [
              "<tf.Tensor: shape=(), dtype=float16, numpy=0.001953>"
            ]
          },
          "metadata": {},
          "execution_count": 90
        }
      ]
    },
    {
      "cell_type": "code",
      "source": [
        "# Check for equality\n",
        "F[tf.argmax(F)] == tf.reduce_max(F)"
      ],
      "metadata": {
        "colab": {
          "base_uri": "https://localhost:8080/"
        },
        "id": "qy2H7AkIU76j",
        "outputId": "1db014ae-a511-4443-fcde-8e5fbb231061"
      },
      "execution_count": 91,
      "outputs": [
        {
          "output_type": "execute_result",
          "data": {
            "text/plain": [
              "<tf.Tensor: shape=(), dtype=bool, numpy=True>"
            ]
          },
          "metadata": {},
          "execution_count": 91
        }
      ]
    }
  ]
}